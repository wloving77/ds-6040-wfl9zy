{
 "cells": [
  {
   "cell_type": "markdown",
   "id": "540a0931-2d8e-4e91-9f6b-1687fe31d514",
   "metadata": {},
   "source": [
    "# Assignment 5\n",
    "\n",
    "In this assignment, we'll finally work with some nonconjugate models. I will also introduce you to reparameterization techniques.\n",
    "\n",
    "## Instructions\n",
    "\n",
    "Please complete this Jupyter notebook and **don't** convert it to a `.py` file. Upload this notebook, along with any `.stan` files and any data sets as a `zip` file to Gradescope. \n",
    "\n",
    "Your work will be manually graded by our TA. There is no autograder for this assignment. For free response questions, feel free to add a markdown cell and type in there. Try to keep the preexisting structure as much as possible, and to be organized and label which cells correspond with which questions.\n",
    "\n"
   ]
  },
  {
   "cell_type": "markdown",
   "id": "ba2e1c00-5fcb-401f-807e-22b96cd50dbc",
   "metadata": {},
   "source": [
    "### Problem 1: Poisson Data\n",
    "\n",
    "In the last assignment, we modeled a vector of counts $y = (y_1, \\ldots, y_n)$ using a multinomial distribution. \n",
    "\n",
    "Unlike last time, all of these counts will now assumed to be independent. Further, we can't reasonably put a bound on what each count could be. So, in this problem, we'll use a **Poisson likelihood**:\n",
    "\n",
    "$$\n",
    "L(y \\mid \\theta) = \\prod_{i=1}^n L(y_i \\mid \\theta) \\propto \\prod_{i=1}^n e^{-\\theta}\\theta^{y_i} = e^{-n\\theta}\\theta^{\\sum_i y_i}\n",
    "$$\n",
    "\n",
    "With this likelihood, $\\theta > 0$ is interpreted as a rate or average.\n",
    "\n",
    "The data can be found in `Road_Casualties_in_Great_Britain_1969___84_434_19.csv` Use the `DriversKilled` column only."
   ]
  },
  {
   "cell_type": "markdown",
   "id": "31500b6f-1f05-45a7-ab21-ceb1e5d7a0d7",
   "metadata": {},
   "source": [
    "1.\n",
    "\n",
    "Name a conjugate prior for this likelihood! Write your single-word answer in Gradescope."
   ]
  },
  {
   "cell_type": "markdown",
   "id": "b85fc3d5-f387-4521-b0a0-e280921c5bd5",
   "metadata": {},
   "source": [
    "2.\n",
    "\n",
    "Suppose that the previous answer does not suite your needs, and that you want to use a lognormal prior! Pick a specific prior distribution (i.e. specify the hyperparameters), and describe a rationale as to why you chose them. \n",
    "\n"
   ]
  },
  {
   "cell_type": "markdown",
   "id": "a49e2c63-8838-47e1-8014-eda5b216d1ce",
   "metadata": {},
   "source": [
    "3.\n",
    "\n",
    "Use `stan` to estimate your model for the \"DriversKilled\" column. Please be sure to \n",
    "\n",
    " - report an $\\hat{R}$ diagnostic and comment on whether it is close to $1$\n",
    " - display trace plots of your samples obtained and comment on whether they look like \"fuzzy caterpillars.\"\n",
    "\n",
    "Then, after checking diagnostics...\n",
    "\n",
    " - display a histogram of the posterior for $\\theta$\n",
    " - report estimates of the mean, 5th and 95th percentiles of this posterior\n",
    " - comment on whether your posterior mean is close to the frequentist estimator of $\\theta$ (which is the sample mean of your data)\n"
   ]
  },
  {
   "cell_type": "markdown",
   "id": "bf59ef4a-4560-49f8-a441-171ec4a76caf",
   "metadata": {},
   "source": [
    "4.\n",
    "\n",
    "Now use `stan` to estimate a slightly reparameterized model. Suppose you want to use a normal prior on an unconstrained parameter. Notice that if something is positive, then the (natural) log of it is unconstrained. Similarly, if something is unconstrained, the exponential of it is positive.\n",
    "\n",
    "Therefore, use the following model\n",
    "\n",
    "\n",
    "$$\n",
    "\\theta \\sim \\text{Normal}(a,b)\n",
    "$$\n",
    "and\n",
    "$$\n",
    "y_i \\mid \\theta \\sim \\text{Poisson}(e^{\\theta})\n",
    "$$\n",
    "\n",
    "    \n",
    "Use `stan` to estimate your model for the \"DriversKilled\" column. Please be sure to \n",
    "\n",
    " - report an $\\hat{R}$ diagnostic and comment on whether it is close to $1$\n",
    " - display trace plots of your samples obtained and comment on whether they look like \"fuzzy caterpillars.\"\n",
    "\n",
    "Then, after checking diagnostics...\n",
    "\n",
    " - display a histogram of the posterior for $\\theta$\n",
    " - display a histogram of the posterior for the transformed parameter, too.\n",
    " - report estimates of the mean, 5th and 95th percentiles of the posterior of the unconstrained $\\theta$\n",
    " - comment on whether your posterior mean is close to the frequentist estimator (which is the sample mean of your data)\n"
   ]
  },
  {
   "cell_type": "markdown",
   "id": "cab15444-391f-44be-b9ec-1a8fe5e3ddb9",
   "metadata": {},
   "source": [
    "### Problem 2: Binomial Data (again!)\n",
    "\n",
    "Suppose that you have $m > 1$ count data points $y_1, \\ldots, y_m$, each having a $\\text{Binomial}(n,\\eta)$ distribution. Assume further that they're all independent.\n",
    "\n",
    "Here $n$ is the maximum for each data point. $m$ is the number of data points.\n",
    "\n",
    "In our second homework we used the beta prior for the parameter that was bounded between $0$ and $1$. \n",
    "\n",
    "Now, you must use a normal prior for an unconstrained parameter. \n",
    "\n",
    "If $0 < \\eta < 1$, then the *logit* transformation is a way to make $-\\infty < \\theta < \\infty$ (unconstrained). Alternatively, if you have $\\eta$ that's unconstrained, then the `inv_logit` will squash the value to lie between $0$ and $1$.\n",
    "\n",
    "\n",
    "`stan` conveniently has a `logit()` and an `inv_logit()` function already made for you.\n",
    "\n"
   ]
  },
  {
   "cell_type": "markdown",
   "id": "8060401f-f342-461b-9267-35030e06404d",
   "metadata": {},
   "source": [
    "Use `stan` to estimate your model on any fictitious data you would like. Be sure to\n",
    "\n",
    " - report an $\\hat{R}$ diagnostic and comment on whether it is close to $1$\n",
    " - display trace plots of your samples obtained and comment on whether they look like \"fuzzy caterpillars.\"\n",
    "\n",
    "Then, after checking diagnostics...\n",
    "\n",
    " - display a histogram of the posterior for $\\theta$\n",
    " - display a histogram of the posterior for the transformed parameter, too.\n",
    " - report estimates of the mean, 5th and 95th percentiles of the posterior of the unconstrained $\\theta$\n",
    " - comment on whether your posterior mean is close to the frequentist estimator (which is the sample mean of your data, again).\n"
   ]
  }
 ],
 "metadata": {
  "kernelspec": {
   "display_name": "Python 3 (ipykernel)",
   "language": "python",
   "name": "python3"
  },
  "language_info": {
   "codemirror_mode": {
    "name": "ipython",
    "version": 3
   },
   "file_extension": ".py",
   "mimetype": "text/x-python",
   "name": "python",
   "nbconvert_exporter": "python",
   "pygments_lexer": "ipython3",
   "version": "3.11.8"
  }
 },
 "nbformat": 4,
 "nbformat_minor": 5
}
