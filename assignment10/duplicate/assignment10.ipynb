{
 "cells": [
  {
   "cell_type": "markdown",
   "id": "540a0931-2d8e-4e91-9f6b-1687fe31d514",
   "metadata": {},
   "source": [
    "# Assignment 10\n",
    "\n",
    "In this assignment we'll examine a data set in `diabetes.csv`. \n",
    "\n",
    "## Instructions\n",
    "\n",
    "Please complete this Jupyter notebook and **don't** convert it to a `.py` file. Upload this notebook, along with any `.stan` files and any data sets as a `zip` file to Gradescope. Your work will be manually graded by our TA. \n",
    "\n",
    "Protip: if you write your `.stan` file generally enough, it will work with most of the models below, and you won't need to keep recompiling the model object!\n"
   ]
  },
  {
   "cell_type": "code",
   "execution_count": 1,
   "id": "e8725c09-fc5a-4726-b352-7a4fffbe4fc8",
   "metadata": {},
   "outputs": [],
   "source": [
    "import pandas as pd\n",
    "import numpy as np\n",
    "import os\n",
    "from cmdstanpy import CmdStanModel\n",
    "import matplotlib.pyplot as plt"
   ]
  },
  {
   "cell_type": "markdown",
   "id": "61b59f7f-539a-4e6d-a986-a8b70891fc77",
   "metadata": {},
   "source": [
    "## Data Description\n",
    "\n",
    "This dataset is originally from \n",
    "\n",
    "    Reaven, G. M. and Miller, R. G. (1979). An attempt to define the nature of chemical diabetes using a multidimensional analysis. Diabetologia, 16, 17-24. \n",
    "\n",
    "The `group` column provides labels that the researches came up with. They should not be taken as fact or used in your finite mixture model (because they are discrete). Interestingly, the labels provided can be used to compare with the labels you might generate from your model."
   ]
  },
  {
   "cell_type": "code",
   "execution_count": 2,
   "id": "8b4b8f08-4dd5-44a8-bcd1-d289a64422b0",
   "metadata": {},
   "outputs": [
    {
     "data": {
      "text/html": [
       "<div>\n",
       "<style scoped>\n",
       "    .dataframe tbody tr th:only-of-type {\n",
       "        vertical-align: middle;\n",
       "    }\n",
       "\n",
       "    .dataframe tbody tr th {\n",
       "        vertical-align: top;\n",
       "    }\n",
       "\n",
       "    .dataframe thead th {\n",
       "        text-align: right;\n",
       "    }\n",
       "</style>\n",
       "<table border=\"1\" class=\"dataframe\">\n",
       "  <thead>\n",
       "    <tr style=\"text-align: right;\">\n",
       "      <th></th>\n",
       "      <th>relwt</th>\n",
       "      <th>glufast</th>\n",
       "      <th>glutest</th>\n",
       "      <th>instest</th>\n",
       "      <th>sspg</th>\n",
       "      <th>group</th>\n",
       "    </tr>\n",
       "  </thead>\n",
       "  <tbody>\n",
       "    <tr>\n",
       "      <th>0</th>\n",
       "      <td>0.81</td>\n",
       "      <td>80</td>\n",
       "      <td>356</td>\n",
       "      <td>124</td>\n",
       "      <td>55</td>\n",
       "      <td>Normal</td>\n",
       "    </tr>\n",
       "    <tr>\n",
       "      <th>1</th>\n",
       "      <td>0.95</td>\n",
       "      <td>97</td>\n",
       "      <td>289</td>\n",
       "      <td>117</td>\n",
       "      <td>76</td>\n",
       "      <td>Normal</td>\n",
       "    </tr>\n",
       "    <tr>\n",
       "      <th>2</th>\n",
       "      <td>0.94</td>\n",
       "      <td>105</td>\n",
       "      <td>319</td>\n",
       "      <td>143</td>\n",
       "      <td>105</td>\n",
       "      <td>Normal</td>\n",
       "    </tr>\n",
       "    <tr>\n",
       "      <th>3</th>\n",
       "      <td>1.04</td>\n",
       "      <td>90</td>\n",
       "      <td>356</td>\n",
       "      <td>199</td>\n",
       "      <td>108</td>\n",
       "      <td>Normal</td>\n",
       "    </tr>\n",
       "    <tr>\n",
       "      <th>4</th>\n",
       "      <td>1.00</td>\n",
       "      <td>90</td>\n",
       "      <td>323</td>\n",
       "      <td>240</td>\n",
       "      <td>143</td>\n",
       "      <td>Normal</td>\n",
       "    </tr>\n",
       "  </tbody>\n",
       "</table>\n",
       "</div>"
      ],
      "text/plain": [
       "   relwt  glufast  glutest  instest  sspg   group\n",
       "0   0.81       80      356      124    55  Normal\n",
       "1   0.95       97      289      117    76  Normal\n",
       "2   0.94      105      319      143   105  Normal\n",
       "3   1.04       90      356      199   108  Normal\n",
       "4   1.00       90      323      240   143  Normal"
      ]
     },
     "execution_count": 2,
     "metadata": {},
     "output_type": "execute_result"
    }
   ],
   "source": [
    "diab = pd.read_csv(\"diabetes.csv\")\n",
    "diab.head()"
   ]
  },
  {
   "cell_type": "markdown",
   "id": "9ff61748-6598-4f85-8631-1bc14351a170",
   "metadata": {},
   "source": [
    "## Problem 1:\n",
    "\n",
    "In general, if your data has $D$ columns, and you assume your model has $H$ clusters, how many parameters in total are there for\n",
    "\n",
    " - the general case of fully flexible covariance matrices,\n",
    " - assuming all groups have the same general covariance structure,\n",
    " - assuming variables are uncorrelated in all groups, and\n",
    " - assuming that in every group, all features have the same variance *and* are uncorrelated with one another?\n",
    "\n"
   ]
  },
  {
   "cell_type": "markdown",
   "id": "f6f17632-6f7c-4e16-9499-5ab24bf18db0",
   "metadata": {},
   "source": [
    "## Problem 2: Inference on $\\theta$ and $z$\n",
    "\n",
    "Estimate the parameters of your finite mixture of normals model. Attach your (heavily) modified `.stan` file to your submission so that we may run it when graded your work.\n",
    "\n",
    "Please be sure to address the following questions about $\\theta$ inference:\n",
    "\n",
    "1. Are you sure your posterior for $\\theta$ is identifiable?\n",
    "2. What did you spend most of your time doing to get this to be so?\n",
    "3. Discuss the *meaning* of your group categories that you found (i.e. which group is the \"healthy\" group, etc. etc.)\n",
    "\n",
    "Please report all the usual stuff, too.\n",
    "\n",
    "Regarding the $z$ inference:\n",
    "\n",
    "4. Should you pay attention to $\\hat{R}$ diagnostics for `label_prob` variables?\n",
    "5. Which individual is one of the most difficult to categorize? Why do you think this is interesting to identify?\n",
    "6. What percentage of the time do your individual person labels correspond to the labels given to you in the `.csv` file?\n",
    "\n",
    "Finally:\n",
    "\n",
    "7. Are there any interesting scientific questions that are not addressed by this finite mixture model?"
   ]
  },
  {
   "cell_type": "markdown",
   "id": "cbdafa0b-34f4-4775-88bb-6b4cca577d78",
   "metadata": {},
   "source": [
    "### Hints\n",
    "\n",
    "**Expect to do a lot of experimentation with**\n",
    " - which columns to transform or remove so that everything is conditionally normal, \n",
    " - how many clusters to assume you have, and most of all\n",
    " - **how to properly describe your prior beliefs**.\n",
    "\n",
    "The biggest difficult you will have is trying to specify priors to make the posterior identifiable--to know which cluster group is which. **Remember what we said about $\\hat{R}$s in lecture!** Dealing with this also helps with the speed of the algorithm.\n",
    "\n",
    "More hints: \n",
    "\n",
    " 1. Use scatterplots (pairwise or 3-d) to help you visualize how many clusters there need to be. Use Occam's razor!\n",
    " 2. Feel free to \"cheat\" in order to come up with priors that identify your posterior. \n",
    " 3. While you're figuring everything out, it might be faster to prototype to temporarily restrict your attention to a random subset of the data. "
   ]
  }
 ],
 "metadata": {
  "kernelspec": {
   "display_name": "Python 3 (ipykernel)",
   "language": "python",
   "name": "python3"
  },
  "language_info": {
   "codemirror_mode": {
    "name": "ipython",
    "version": 3
   },
   "file_extension": ".py",
   "mimetype": "text/x-python",
   "name": "python",
   "nbconvert_exporter": "python",
   "pygments_lexer": "ipython3",
   "version": "3.11.8"
  }
 },
 "nbformat": 4,
 "nbformat_minor": 5
}
