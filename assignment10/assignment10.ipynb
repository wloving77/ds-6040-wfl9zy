{
 "cells": [
  {
   "cell_type": "markdown",
   "id": "540a0931-2d8e-4e91-9f6b-1687fe31d514",
   "metadata": {},
   "source": [
    "# Assignment 10\n",
    "\n",
    "In this assignment we'll examine a data set in `diabetes.csv`. \n",
    "\n",
    "## Instructions\n",
    "\n",
    "Please complete this Jupyter notebook and **don't** convert it to a `.py` file. Upload this notebook, along with any `.stan` files and any data sets as a `zip` file to Gradescope. Your work will be manually graded by our TA. \n",
    "\n",
    "Protip: if you write your `.stan` file generally enough, it will work with most of the models below, and you won't need to keep recompiling the model object!\n"
   ]
  },
  {
   "cell_type": "code",
   "execution_count": 1,
   "id": "e8725c09-fc5a-4726-b352-7a4fffbe4fc8",
   "metadata": {},
   "outputs": [],
   "source": [
    "import pandas as pd\n",
    "import numpy as np\n",
    "import os\n",
    "from cmdstanpy import CmdStanModel\n",
    "import matplotlib.pyplot as plt"
   ]
  },
  {
   "cell_type": "markdown",
   "id": "61b59f7f-539a-4e6d-a986-a8b70891fc77",
   "metadata": {},
   "source": [
    "## Data Description\n",
    "\n",
    "This dataset is originally from \n",
    "\n",
    "    Reaven, G. M. and Miller, R. G. (1979). An attempt to define the nature of chemical diabetes using a multidimensional analysis. Diabetologia, 16, 17-24. \n",
    "\n",
    "The `group` column provides labels that the researches came up with. They should not be taken as fact or used in your finite mixture model (because they are discrete). Interestingly, the labels provided can be used to compare with the labels you might generate from your model."
   ]
  },
  {
   "cell_type": "code",
   "execution_count": 2,
   "id": "8b4b8f08-4dd5-44a8-bcd1-d289a64422b0",
   "metadata": {},
   "outputs": [
    {
     "data": {
      "text/html": [
       "<div>\n",
       "<style scoped>\n",
       "    .dataframe tbody tr th:only-of-type {\n",
       "        vertical-align: middle;\n",
       "    }\n",
       "\n",
       "    .dataframe tbody tr th {\n",
       "        vertical-align: top;\n",
       "    }\n",
       "\n",
       "    .dataframe thead th {\n",
       "        text-align: right;\n",
       "    }\n",
       "</style>\n",
       "<table border=\"1\" class=\"dataframe\">\n",
       "  <thead>\n",
       "    <tr style=\"text-align: right;\">\n",
       "      <th></th>\n",
       "      <th>relwt</th>\n",
       "      <th>glufast</th>\n",
       "      <th>glutest</th>\n",
       "      <th>instest</th>\n",
       "      <th>sspg</th>\n",
       "      <th>group</th>\n",
       "    </tr>\n",
       "  </thead>\n",
       "  <tbody>\n",
       "    <tr>\n",
       "      <th>0</th>\n",
       "      <td>0.81</td>\n",
       "      <td>80</td>\n",
       "      <td>356</td>\n",
       "      <td>124</td>\n",
       "      <td>55</td>\n",
       "      <td>Normal</td>\n",
       "    </tr>\n",
       "    <tr>\n",
       "      <th>1</th>\n",
       "      <td>0.95</td>\n",
       "      <td>97</td>\n",
       "      <td>289</td>\n",
       "      <td>117</td>\n",
       "      <td>76</td>\n",
       "      <td>Normal</td>\n",
       "    </tr>\n",
       "    <tr>\n",
       "      <th>2</th>\n",
       "      <td>0.94</td>\n",
       "      <td>105</td>\n",
       "      <td>319</td>\n",
       "      <td>143</td>\n",
       "      <td>105</td>\n",
       "      <td>Normal</td>\n",
       "    </tr>\n",
       "    <tr>\n",
       "      <th>3</th>\n",
       "      <td>1.04</td>\n",
       "      <td>90</td>\n",
       "      <td>356</td>\n",
       "      <td>199</td>\n",
       "      <td>108</td>\n",
       "      <td>Normal</td>\n",
       "    </tr>\n",
       "    <tr>\n",
       "      <th>4</th>\n",
       "      <td>1.00</td>\n",
       "      <td>90</td>\n",
       "      <td>323</td>\n",
       "      <td>240</td>\n",
       "      <td>143</td>\n",
       "      <td>Normal</td>\n",
       "    </tr>\n",
       "  </tbody>\n",
       "</table>\n",
       "</div>"
      ],
      "text/plain": [
       "   relwt  glufast  glutest  instest  sspg   group\n",
       "0   0.81       80      356      124    55  Normal\n",
       "1   0.95       97      289      117    76  Normal\n",
       "2   0.94      105      319      143   105  Normal\n",
       "3   1.04       90      356      199   108  Normal\n",
       "4   1.00       90      323      240   143  Normal"
      ]
     },
     "execution_count": 2,
     "metadata": {},
     "output_type": "execute_result"
    }
   ],
   "source": [
    "diab = pd.read_csv(\"diabetes.csv\")\n",
    "diab.head()"
   ]
  },
  {
   "cell_type": "code",
   "execution_count": 3,
   "id": "9085b999-5c1b-4e60-9159-e044c221ac64",
   "metadata": {},
   "outputs": [
    {
     "data": {
      "text/plain": [
       "group\n",
       "Normal               76\n",
       "Chemical_Diabetic    36\n",
       "Overt_Diabetic       33\n",
       "Name: count, dtype: int64"
      ]
     },
     "execution_count": 3,
     "metadata": {},
     "output_type": "execute_result"
    }
   ],
   "source": [
    "diab['group'].value_counts()"
   ]
  },
  {
   "cell_type": "code",
   "execution_count": 4,
   "id": "9ead776d-47ae-4a9f-a948-3d3d55f34ed5",
   "metadata": {},
   "outputs": [
    {
     "data": {
      "text/plain": [
       "glufast     91.184211\n",
       "glutest    349.973684\n",
       "instest    172.644737\n",
       "sspg       114.000000\n",
       "dtype: float64"
      ]
     },
     "execution_count": 4,
     "metadata": {},
     "output_type": "execute_result"
    }
   ],
   "source": [
    "diab[diab['group']==\"Normal\"][['glufast', 'glutest', 'instest', 'sspg']].mean()"
   ]
  },
  {
   "cell_type": "code",
   "execution_count": 5,
   "id": "b4611af6-0f77-4936-8df9-9c097919ea5a",
   "metadata": {},
   "outputs": [
    {
     "data": {
      "text/plain": [
       "glufast     99.305556\n",
       "glutest    493.944444\n",
       "instest    288.000000\n",
       "sspg       208.972222\n",
       "dtype: float64"
      ]
     },
     "execution_count": 5,
     "metadata": {},
     "output_type": "execute_result"
    }
   ],
   "source": [
    "diab[diab['group']==\"Chemical_Diabetic\"][['glufast', 'glutest', 'instest', 'sspg']].mean()"
   ]
  },
  {
   "cell_type": "code",
   "execution_count": 6,
   "id": "5a596867-847f-4520-a4e6-4a1ea14e359b",
   "metadata": {},
   "outputs": [
    {
     "data": {
      "text/plain": [
       "glufast     217.666667\n",
       "glutest    1043.757576\n",
       "instest     106.000000\n",
       "sspg        318.878788\n",
       "dtype: float64"
      ]
     },
     "execution_count": 6,
     "metadata": {},
     "output_type": "execute_result"
    }
   ],
   "source": [
    "diab[diab['group']==\"Overt_Diabetic\"][['glufast', 'glutest', 'instest', 'sspg']].mean()"
   ]
  },
  {
   "cell_type": "code",
   "execution_count": 7,
   "id": "f11cd136-ff81-45c0-ab95-652711356deb",
   "metadata": {},
   "outputs": [
    {
     "data": {
      "text/html": [
       "<div>\n",
       "<style scoped>\n",
       "    .dataframe tbody tr th:only-of-type {\n",
       "        vertical-align: middle;\n",
       "    }\n",
       "\n",
       "    .dataframe tbody tr th {\n",
       "        vertical-align: top;\n",
       "    }\n",
       "\n",
       "    .dataframe thead th {\n",
       "        text-align: right;\n",
       "    }\n",
       "</style>\n",
       "<table border=\"1\" class=\"dataframe\">\n",
       "  <thead>\n",
       "    <tr style=\"text-align: right;\">\n",
       "      <th></th>\n",
       "      <th>relwt</th>\n",
       "      <th>glufast</th>\n",
       "      <th>glutest</th>\n",
       "      <th>instest</th>\n",
       "      <th>sspg</th>\n",
       "      <th>group</th>\n",
       "    </tr>\n",
       "  </thead>\n",
       "  <tbody>\n",
       "    <tr>\n",
       "      <th>58</th>\n",
       "      <td>0.99</td>\n",
       "      <td>98</td>\n",
       "      <td>478</td>\n",
       "      <td>151</td>\n",
       "      <td>122</td>\n",
       "      <td>Chemical_Diabetic</td>\n",
       "    </tr>\n",
       "    <tr>\n",
       "      <th>61</th>\n",
       "      <td>1.02</td>\n",
       "      <td>88</td>\n",
       "      <td>439</td>\n",
       "      <td>208</td>\n",
       "      <td>244</td>\n",
       "      <td>Chemical_Diabetic</td>\n",
       "    </tr>\n",
       "    <tr>\n",
       "      <th>62</th>\n",
       "      <td>1.19</td>\n",
       "      <td>100</td>\n",
       "      <td>429</td>\n",
       "      <td>201</td>\n",
       "      <td>194</td>\n",
       "      <td>Chemical_Diabetic</td>\n",
       "    </tr>\n",
       "    <tr>\n",
       "      <th>64</th>\n",
       "      <td>1.20</td>\n",
       "      <td>89</td>\n",
       "      <td>472</td>\n",
       "      <td>162</td>\n",
       "      <td>257</td>\n",
       "      <td>Chemical_Diabetic</td>\n",
       "    </tr>\n",
       "    <tr>\n",
       "      <th>65</th>\n",
       "      <td>1.05</td>\n",
       "      <td>91</td>\n",
       "      <td>436</td>\n",
       "      <td>148</td>\n",
       "      <td>167</td>\n",
       "      <td>Chemical_Diabetic</td>\n",
       "    </tr>\n",
       "  </tbody>\n",
       "</table>\n",
       "</div>"
      ],
      "text/plain": [
       "    relwt  glufast  glutest  instest  sspg              group\n",
       "58   0.99       98      478      151   122  Chemical_Diabetic\n",
       "61   1.02       88      439      208   244  Chemical_Diabetic\n",
       "62   1.19      100      429      201   194  Chemical_Diabetic\n",
       "64   1.20       89      472      162   257  Chemical_Diabetic\n",
       "65   1.05       91      436      148   167  Chemical_Diabetic"
      ]
     },
     "execution_count": 7,
     "metadata": {},
     "output_type": "execute_result"
    }
   ],
   "source": [
    "diab[diab['group']==\"Chemical_Diabetic\"].head()"
   ]
  },
  {
   "cell_type": "code",
   "execution_count": 8,
   "id": "f45bd3d8-e1b5-47a7-a4a7-c4cb0b648b48",
   "metadata": {},
   "outputs": [
    {
     "data": {
      "text/html": [
       "<div>\n",
       "<style scoped>\n",
       "    .dataframe tbody tr th:only-of-type {\n",
       "        vertical-align: middle;\n",
       "    }\n",
       "\n",
       "    .dataframe tbody tr th {\n",
       "        vertical-align: top;\n",
       "    }\n",
       "\n",
       "    .dataframe thead th {\n",
       "        text-align: right;\n",
       "    }\n",
       "</style>\n",
       "<table border=\"1\" class=\"dataframe\">\n",
       "  <thead>\n",
       "    <tr style=\"text-align: right;\">\n",
       "      <th></th>\n",
       "      <th>relwt</th>\n",
       "      <th>glufast</th>\n",
       "      <th>glutest</th>\n",
       "      <th>instest</th>\n",
       "      <th>sspg</th>\n",
       "      <th>group</th>\n",
       "    </tr>\n",
       "  </thead>\n",
       "  <tbody>\n",
       "    <tr>\n",
       "      <th>112</th>\n",
       "      <td>0.92</td>\n",
       "      <td>300</td>\n",
       "      <td>1468</td>\n",
       "      <td>28</td>\n",
       "      <td>455</td>\n",
       "      <td>Overt_Diabetic</td>\n",
       "    </tr>\n",
       "    <tr>\n",
       "      <th>113</th>\n",
       "      <td>0.86</td>\n",
       "      <td>303</td>\n",
       "      <td>1487</td>\n",
       "      <td>23</td>\n",
       "      <td>327</td>\n",
       "      <td>Overt_Diabetic</td>\n",
       "    </tr>\n",
       "    <tr>\n",
       "      <th>114</th>\n",
       "      <td>0.85</td>\n",
       "      <td>125</td>\n",
       "      <td>714</td>\n",
       "      <td>232</td>\n",
       "      <td>279</td>\n",
       "      <td>Overt_Diabetic</td>\n",
       "    </tr>\n",
       "    <tr>\n",
       "      <th>115</th>\n",
       "      <td>0.83</td>\n",
       "      <td>280</td>\n",
       "      <td>1470</td>\n",
       "      <td>54</td>\n",
       "      <td>382</td>\n",
       "      <td>Overt_Diabetic</td>\n",
       "    </tr>\n",
       "    <tr>\n",
       "      <th>116</th>\n",
       "      <td>0.85</td>\n",
       "      <td>216</td>\n",
       "      <td>1113</td>\n",
       "      <td>81</td>\n",
       "      <td>378</td>\n",
       "      <td>Overt_Diabetic</td>\n",
       "    </tr>\n",
       "  </tbody>\n",
       "</table>\n",
       "</div>"
      ],
      "text/plain": [
       "     relwt  glufast  glutest  instest  sspg           group\n",
       "112   0.92      300     1468       28   455  Overt_Diabetic\n",
       "113   0.86      303     1487       23   327  Overt_Diabetic\n",
       "114   0.85      125      714      232   279  Overt_Diabetic\n",
       "115   0.83      280     1470       54   382  Overt_Diabetic\n",
       "116   0.85      216     1113       81   378  Overt_Diabetic"
      ]
     },
     "execution_count": 8,
     "metadata": {},
     "output_type": "execute_result"
    }
   ],
   "source": [
    "diab[diab['group']==\"Overt_Diabetic\"].head()"
   ]
  },
  {
   "cell_type": "code",
   "execution_count": 52,
   "id": "7cde12a9-addc-49de-856e-0e2af609a19b",
   "metadata": {},
   "outputs": [],
   "source": [
    "diab_ready = diab.drop(columns={\"group\", \"relwt\", \"instest\", \"sspg\"})"
   ]
  },
  {
   "cell_type": "code",
   "execution_count": 53,
   "id": "5879104c-a1c2-43e3-9aaa-388600283b79",
   "metadata": {},
   "outputs": [
    {
     "data": {
      "text/html": [
       "<div>\n",
       "<style scoped>\n",
       "    .dataframe tbody tr th:only-of-type {\n",
       "        vertical-align: middle;\n",
       "    }\n",
       "\n",
       "    .dataframe tbody tr th {\n",
       "        vertical-align: top;\n",
       "    }\n",
       "\n",
       "    .dataframe thead th {\n",
       "        text-align: right;\n",
       "    }\n",
       "</style>\n",
       "<table border=\"1\" class=\"dataframe\">\n",
       "  <thead>\n",
       "    <tr style=\"text-align: right;\">\n",
       "      <th></th>\n",
       "      <th>glufast</th>\n",
       "      <th>glutest</th>\n",
       "    </tr>\n",
       "  </thead>\n",
       "  <tbody>\n",
       "    <tr>\n",
       "      <th>0</th>\n",
       "      <td>80</td>\n",
       "      <td>356</td>\n",
       "    </tr>\n",
       "    <tr>\n",
       "      <th>1</th>\n",
       "      <td>97</td>\n",
       "      <td>289</td>\n",
       "    </tr>\n",
       "    <tr>\n",
       "      <th>2</th>\n",
       "      <td>105</td>\n",
       "      <td>319</td>\n",
       "    </tr>\n",
       "    <tr>\n",
       "      <th>3</th>\n",
       "      <td>90</td>\n",
       "      <td>356</td>\n",
       "    </tr>\n",
       "    <tr>\n",
       "      <th>4</th>\n",
       "      <td>90</td>\n",
       "      <td>323</td>\n",
       "    </tr>\n",
       "  </tbody>\n",
       "</table>\n",
       "</div>"
      ],
      "text/plain": [
       "   glufast  glutest\n",
       "0       80      356\n",
       "1       97      289\n",
       "2      105      319\n",
       "3       90      356\n",
       "4       90      323"
      ]
     },
     "execution_count": 53,
     "metadata": {},
     "output_type": "execute_result"
    }
   ],
   "source": [
    "diab_ready.head()"
   ]
  },
  {
   "cell_type": "markdown",
   "id": "9ff61748-6598-4f85-8631-1bc14351a170",
   "metadata": {},
   "source": [
    "---------\n",
    "# Problem 1 Answers:\n",
    "\n",
    "In general, if your data has $D$ columns, and you assume your model has $H$ clusters, how many parameters in total are there for\n",
    "\n",
    " - the general case of fully flexible covariance matrices,\n",
    "      - Mean Vectors: H x D\n",
    "      - Covariance Matrices: H x ($\\frac{D(D+1)}{2})$\n",
    "      - Lambda Coefficients: H - 1\n",
    "      - Total Parameters: (H x D) + (H x ($\\frac{D(D+1)}{2})$) + (H - 1)\n",
    " - assuming all groups have the same general covariance structure,\n",
    "      - Mean Vectors: H x D\n",
    "      - Covariance Matrices (only 1, not H): ($\\frac{D(D+1)}{2})$\n",
    "      - Lambda Coefficients: H - 1\n",
    "      - Total Parameters: (H x D) + ($\\frac{D(D+1)}{2})$ + (H - 1)\n",
    " - assuming variables are uncorrelated in all groups, and\n",
    "      - Mean Vectors: H x D\n",
    "      - Covariance Matrices (Diagonal Only): (H x D)\n",
    "      - Lambda Coefficients: H - 1\n",
    "      - Total Parameters: (H x D) + (H x D) + (H - 1)\n",
    " - assuming that in every group, all features have the same variance *and* are uncorrelated with one another?\n",
    "      - Mean Vectors: H x D\n",
    "      - Covariance Matrices (Simply a Scalar Multiple of the Identity Matrix): D\n",
    "      - Lambda Coefficients: H - 1\n",
    "      - Total Parameters: (H x D) + (D) + (H - 1)\n",
    "  \n",
    "---------"
   ]
  },
  {
   "cell_type": "markdown",
   "id": "f6f17632-6f7c-4e16-9499-5ab24bf18db0",
   "metadata": {},
   "source": [
    "## Problem 2: Inference on $\\theta$ and $z$\n",
    "\n",
    "Estimate the parameters of your finite mixture of normals model. Attach your (heavily) modified `.stan` file to your submission so that we may run it when graded your work.\n",
    "\n",
    "Please be sure to address the following questions about $\\theta$ inference:\n",
    "\n",
    "1. Are you sure your posterior for $\\theta$ is identifiable?\n",
    "2. What did you spend most of your time doing to get this to be so?\n",
    "3. Discuss the *meaning* of your group categories that you found (i.e. which group is the \"healthy\" group, etc. etc.)\n",
    "\n",
    "Please report all the usual stuff, too.\n",
    "\n",
    "Regarding the $z$ inference:\n",
    "\n",
    "4. Should you pay attention to $\\hat{R}$ diagnostics for `label_prob` variables?\n",
    "5. Which individual is one of the most difficult to categorize? Why do you think this is interesting to identify?\n",
    "6. What percentage of the time do your individual person labels correspond to the labels given to you in the `.csv` file?\n",
    "\n",
    "Finally:\n",
    "\n",
    "7. Are there any interesting scientific questions that are not addressed by this finite mixture model?"
   ]
  },
  {
   "cell_type": "code",
   "execution_count": 54,
   "id": "611abc62-b734-42cf-9982-f73b8e264f4c",
   "metadata": {},
   "outputs": [
    {
     "name": "stderr",
     "output_type": "stream",
     "text": [
      "03:47:19 - cmdstanpy - INFO - compiling stan file /bml24/assignment10/finite_mixture_normals.stan to exe file /bml24/assignment10/finite_mixture_normals\n",
      "03:47:52 - cmdstanpy - INFO - compiled model executable: /bml24/assignment10/finite_mixture_normals\n"
     ]
    }
   ],
   "source": [
    "model = CmdStanModel(stan_file=\"./finite_mixture_normals.stan\")"
   ]
  },
  {
   "cell_type": "code",
   "execution_count": 55,
   "id": "265420ec-f8c3-49c0-a68f-60175a76d71b",
   "metadata": {},
   "outputs": [
    {
     "name": "stderr",
     "output_type": "stream",
     "text": [
      "03:47:52 - cmdstanpy - INFO - CmdStan start processing\n"
     ]
    },
    {
     "data": {
      "application/vnd.jupyter.widget-view+json": {
       "model_id": "cf47f284becc49d9a466b3ff7aa7509f",
       "version_major": 2,
       "version_minor": 0
      },
      "text/plain": [
       "chain 1 |          | 00:00 Status"
      ]
     },
     "metadata": {},
     "output_type": "display_data"
    },
    {
     "data": {
      "application/vnd.jupyter.widget-view+json": {
       "model_id": "cfd0da965b954cb29b721311f054343e",
       "version_major": 2,
       "version_minor": 0
      },
      "text/plain": [
       "chain 2 |          | 00:00 Status"
      ]
     },
     "metadata": {},
     "output_type": "display_data"
    },
    {
     "data": {
      "application/vnd.jupyter.widget-view+json": {
       "model_id": "8b1a67981d9e43859c82c18254c3f5bc",
       "version_major": 2,
       "version_minor": 0
      },
      "text/plain": [
       "chain 3 |          | 00:00 Status"
      ]
     },
     "metadata": {},
     "output_type": "display_data"
    },
    {
     "data": {
      "application/vnd.jupyter.widget-view+json": {
       "model_id": "5d042af1319840c5b6fb4e3a5e1be7ff",
       "version_major": 2,
       "version_minor": 0
      },
      "text/plain": [
       "chain 4 |          | 00:00 Status"
      ]
     },
     "metadata": {},
     "output_type": "display_data"
    },
    {
     "name": "stdout",
     "output_type": "stream",
     "text": [
      "                                                                                                                                                                                                                                                                                                                                "
     ]
    },
    {
     "name": "stderr",
     "output_type": "stream",
     "text": [
      "03:48:26 - cmdstanpy - INFO - CmdStan done processing.\n",
      "03:48:26 - cmdstanpy - WARNING - Non-fatal error during sampling:\n",
      "Exception: inv_wishart_lpdf: random variable is not symmetric. random variable[1,2] = -nan, but random variable[2,1] = -nan (in 'finite_mixture_normals.stan', line 36, column 4 to column 65)\n",
      "\tException: inv_wishart_lpdf: random variable is not symmetric. random variable[1,2] = -nan, but random variable[2,1] = -nan (in 'finite_mixture_normals.stan', line 36, column 4 to column 65)\n",
      "\tException: inv_wishart_lpdf: random variable is not symmetric. random variable[1,2] = -nan, but random variable[2,1] = -nan (in 'finite_mixture_normals.stan', line 36, column 4 to column 65)\n",
      "\tException: inv_wishart_lpdf: random variable is not symmetric. random variable[1,2] = -nan, but random variable[2,1] = -nan (in 'finite_mixture_normals.stan', line 36, column 4 to column 65)\n",
      "\tException: inv_wishart_lpdf: random variable is not symmetric. random variable[1,2] = -nan, but random variable[2,1] = -nan (in 'finite_mixture_normals.stan', line 36, column 4 to column 65)\n",
      "\tException: inv_wishart_lpdf: random variable is not symmetric. random variable[1,2] = -nan, but random variable[2,1] = -nan (in 'finite_mixture_normals.stan', line 36, column 4 to column 65)\n",
      "\tException: inv_wishart_lpdf: random variable is not symmetric. random variable[1,2] = -nan, but random variable[2,1] = -nan (in 'finite_mixture_normals.stan', line 36, column 4 to column 65)\n",
      "\tException: inv_wishart_lpdf: random variable is not symmetric. random variable[1,2] = -nan, but random variable[2,1] = -nan (in 'finite_mixture_normals.stan', line 36, column 4 to column 65)\n",
      "\tException: inv_wishart_lpdf: random variable is not symmetric. random variable[1,2] = -nan, but random variable[2,1] = -nan (in 'finite_mixture_normals.stan', line 36, column 4 to column 65)\n",
      "\tException: inv_wishart_lpdf: random variable is not symmetric. random variable[1,2] = -nan, but random variable[2,1] = -nan (in 'finite_mixture_normals.stan', line 36, column 4 to column 65)\n",
      "\tException: inv_wishart_lpdf: LDLT_Factor of random variable is not positive definite.  last conditional variance is -nan. (in 'finite_mixture_normals.stan', line 36, column 4 to column 65)\n",
      "\tException: inv_wishart_lpdf: random variable is not symmetric. random variable[1,2] = -nan, but random variable[2,1] = -nan (in 'finite_mixture_normals.stan', line 36, column 4 to column 65)\n",
      "\tException: inv_wishart_lpdf: random variable is not symmetric. random variable[1,2] = -nan, but random variable[2,1] = -nan (in 'finite_mixture_normals.stan', line 36, column 4 to column 65)\n",
      "\tException: inv_wishart_lpdf: random variable is not symmetric. random variable[1,2] = -nan, but random variable[2,1] = -nan (in 'finite_mixture_normals.stan', line 36, column 4 to column 65)\n",
      "\tException: inv_wishart_lpdf: random variable is not symmetric. random variable[1,2] = -nan, but random variable[2,1] = -nan (in 'finite_mixture_normals.stan', line 36, column 4 to column 65)\n",
      "Exception: inv_wishart_lpdf: random variable is not symmetric. random variable[1,2] = -nan, but random variable[2,1] = -nan (in 'finite_mixture_normals.stan', line 36, column 4 to column 65)\n",
      "\tException: inv_wishart_lpdf: random variable is not symmetric. random variable[1,2] = -nan, but random variable[2,1] = -nan (in 'finite_mixture_normals.stan', line 36, column 4 to column 65)\n",
      "\tException: inv_wishart_lpdf: random variable is not symmetric. random variable[1,2] = -nan, but random variable[2,1] = -nan (in 'finite_mixture_normals.stan', line 36, column 4 to column 65)\n",
      "\tException: inv_wishart_lpdf: random variable is not symmetric. random variable[1,2] = -nan, but random variable[2,1] = -nan (in 'finite_mixture_normals.stan', line 36, column 4 to column 65)\n",
      "\tException: inv_wishart_lpdf: random variable is not symmetric. random variable[1,2] = -nan, but random variable[2,1] = -nan (in 'finite_mixture_normals.stan', line 36, column 4 to column 65)\n",
      "\tException: inv_wishart_lpdf: random variable is not symmetric. random variable[1,2] = -nan, but random variable[2,1] = -nan (in 'finite_mixture_normals.stan', line 36, column 4 to column 65)\n",
      "\tException: inv_wishart_lpdf: random variable is not symmetric. random variable[1,2] = -nan, but random variable[2,1] = -nan (in 'finite_mixture_normals.stan', line 36, column 4 to column 65)\n",
      "\tException: inv_wishart_lpdf: random variable is not symmetric. random variable[1,2] = -nan, but random variable[2,1] = -nan (in 'finite_mixture_normals.stan', line 36, column 4 to column 65)\n",
      "\tException: inv_wishart_lpdf: random variable is not symmetric. random variable[1,2] = -nan, but random variable[2,1] = -nan (in 'finite_mixture_normals.stan', line 36, column 4 to column 65)\n",
      "\tException: inv_wishart_lpdf: random variable is not symmetric. random variable[1,2] = -nan, but random variable[2,1] = -nan (in 'finite_mixture_normals.stan', line 36, column 4 to column 65)\n",
      "Exception: inv_wishart_lpdf: random variable is not symmetric. random variable[1,2] = -nan, but random variable[2,1] = -nan (in 'finite_mixture_normals.stan', line 36, column 4 to column 65)\n",
      "\tException: inv_wishart_lpdf: random variable is not symmetric. random variable[1,2] = -nan, but random variable[2,1] = -nan (in 'finite_mixture_normals.stan', line 36, column 4 to column 65)\n",
      "\tException: inv_wishart_lpdf: random variable is not symmetric. random variable[1,2] = -nan, but random variable[2,1] = -nan (in 'finite_mixture_normals.stan', line 36, column 4 to column 65)\n",
      "\tException: inv_wishart_lpdf: random variable is not symmetric. random variable[1,2] = -nan, but random variable[2,1] = -nan (in 'finite_mixture_normals.stan', line 36, column 4 to column 65)\n",
      "\tException: inv_wishart_lpdf: random variable is not symmetric. random variable[1,2] = -nan, but random variable[2,1] = -nan (in 'finite_mixture_normals.stan', line 36, column 4 to column 65)\n",
      "\tException: inv_wishart_lpdf: random variable is not symmetric. random variable[1,2] = -nan, but random variable[2,1] = -nan (in 'finite_mixture_normals.stan', line 36, column 4 to column 65)\n",
      "\tException: inv_wishart_lpdf: random variable is not symmetric. random variable[1,2] = -nan, but random variable[2,1] = -nan (in 'finite_mixture_normals.stan', line 36, column 4 to column 65)\n",
      "\tException: inv_wishart_lpdf: random variable is not symmetric. random variable[1,2] = -nan, but random variable[2,1] = -nan (in 'finite_mixture_normals.stan', line 36, column 4 to column 65)\n",
      "\tException: inv_wishart_lpdf: random variable is not symmetric. random variable[1,2] = -nan, but random variable[2,1] = -nan (in 'finite_mixture_normals.stan', line 36, column 4 to column 65)\n",
      "\tException: inv_wishart_lpdf: random variable is not symmetric. random variable[1,2] = -inf, but random variable[2,1] = -inf (in 'finite_mixture_normals.stan', line 36, column 4 to column 65)\n",
      "\tException: inv_wishart_lpdf: random variable is not symmetric. random variable[1,2] = -nan, but random variable[2,1] = -nan (in 'finite_mixture_normals.stan', line 36, column 4 to column 65)\n",
      "\tException: inv_wishart_lpdf: LDLT_Factor of random variable is not positive definite.  last conditional variance is -nan. (in 'finite_mixture_normals.stan', line 36, column 4 to column 65)\n",
      "\tException: inv_wishart_lpdf: random variable is not symmetric. random variable[1,2] = -nan, but random variable[2,1] = -nan (in 'finite_mixture_normals.stan', line 36, column 4 to column 65)\n",
      "\tException: inv_wishart_lpdf: random variable is not symmetric. random variable[1,2] = -nan, but random variable[2,1] = -nan (in 'finite_mixture_normals.stan', line 36, column 4 to column 65)\n",
      "Exception: inv_wishart_lpdf: random variable is not symmetric. random variable[1,2] = -nan, but random variable[2,1] = -nan (in 'finite_mixture_normals.stan', line 36, column 4 to column 65)\n",
      "\tException: inv_wishart_lpdf: random variable is not symmetric. random variable[1,2] = -nan, but random variable[2,1] = -nan (in 'finite_mixture_normals.stan', line 36, column 4 to column 65)\n",
      "\tException: inv_wishart_lpdf: random variable is not symmetric. random variable[1,2] = -nan, but random variable[2,1] = -nan (in 'finite_mixture_normals.stan', line 36, column 4 to column 65)\n",
      "\tException: inv_wishart_lpdf: random variable is not symmetric. random variable[1,2] = -nan, but random variable[2,1] = -nan (in 'finite_mixture_normals.stan', line 36, column 4 to column 65)\n",
      "\tException: inv_wishart_lpdf: random variable is not symmetric. random variable[1,2] = -nan, but random variable[2,1] = -nan (in 'finite_mixture_normals.stan', line 36, column 4 to column 65)\n",
      "\tException: inv_wishart_lpdf: random variable is not symmetric. random variable[1,2] = -nan, but random variable[2,1] = -nan (in 'finite_mixture_normals.stan', line 36, column 4 to column 65)\n",
      "\tException: inv_wishart_lpdf: LDLT_Factor of random variable is not positive definite.  last conditional variance is -nan. (in 'finite_mixture_normals.stan', line 36, column 4 to column 65)\n",
      "\tException: inv_wishart_lpdf: LDLT_Factor of random variable is not positive definite.  last conditional variance is -nan. (in 'finite_mixture_normals.stan', line 36, column 4 to column 65)\n",
      "\tException: inv_wishart_lpdf: random variable is not symmetric. random variable[1,2] = -nan, but random variable[2,1] = -nan (in 'finite_mixture_normals.stan', line 36, column 4 to column 65)\n",
      "\tException: inv_wishart_lpdf: random variable is not symmetric. random variable[1,2] = -nan, but random variable[2,1] = -nan (in 'finite_mixture_normals.stan', line 36, column 4 to column 65)\n",
      "Consider re-running with show_console=True if the above output is unclear!\n"
     ]
    },
    {
     "name": "stdout",
     "output_type": "stream",
     "text": [
      "\n"
     ]
    }
   ],
   "source": [
    "data = {\n",
    "    \"N\":diab_ready.shape[0],\n",
    "    \"D\":diab_ready.shape[1],\n",
    "    \"y\":diab_ready.values\n",
    "}\n",
    "\n",
    "fit = model.sample(data=data)"
   ]
  },
  {
   "cell_type": "code",
   "execution_count": 56,
   "id": "98b1a02f-f29b-40e0-9493-8613a14eb9f6",
   "metadata": {},
   "outputs": [
    {
     "data": {
      "text/plain": [
       "1.0011258633257403"
      ]
     },
     "execution_count": 56,
     "metadata": {},
     "output_type": "execute_result"
    }
   ],
   "source": [
    "# All R_Hat's reasonable and hovering right around 1, accomplished this by ensuring priors were non-exchangeable through ordering of the mean vectors, each mean vector is dependent on the previous dimensions mean vector\n",
    "fit.summary()['R_hat'].mean()"
   ]
  },
  {
   "cell_type": "code",
   "execution_count": 57,
   "id": "0f7d1671-1ce3-40d6-b6c3-19e3274aff4f",
   "metadata": {},
   "outputs": [
    {
     "data": {
      "text/plain": [
       "lp__            1.001680\n",
       "lambda[1]       0.999760\n",
       "lambda[2]       0.999538\n",
       "lambda[3]       0.999637\n",
       "mu[1,1]         0.999673\n",
       "mu[1,2]         1.000100\n",
       "mu[2,1]         1.000980\n",
       "mu[2,2]         1.000620\n",
       "mu[3,1]         0.999875\n",
       "mu[3,2]         1.000320\n",
       "Sigma[1,1,1]    0.999682\n",
       "Sigma[1,1,2]    1.000220\n",
       "Sigma[1,2,1]    1.000220\n",
       "Sigma[1,2,2]    1.000190\n",
       "Sigma[2,1,1]    0.999497\n",
       "Sigma[2,1,2]    0.999589\n",
       "Sigma[2,2,1]    0.999589\n",
       "Sigma[2,2,2]    1.000110\n",
       "Sigma[3,1,1]    1.001120\n",
       "Sigma[3,1,2]    1.000940\n",
       "Name: R_hat, dtype: float64"
      ]
     },
     "execution_count": 57,
     "metadata": {},
     "output_type": "execute_result"
    }
   ],
   "source": [
    "fit.summary()['R_hat'].head(20)"
   ]
  },
  {
   "cell_type": "code",
   "execution_count": 58,
   "id": "bc273e1c-d29d-4091-a7ee-72746d314fe8",
   "metadata": {},
   "outputs": [],
   "source": [
    "label_prob = fit.label_prob.mean(axis=0)\n",
    "cluster_assignments = np.argmax(label_prob, axis=1) + 1  # +1 to match cluster labels 1, 2, 3"
   ]
  },
  {
   "cell_type": "code",
   "execution_count": 59,
   "id": "e7beeedb-4e8d-4344-8593-ae162cb548bc",
   "metadata": {},
   "outputs": [
    {
     "data": {
      "text/plain": [
       "array([1, 1, 1, 1, 1, 1, 1, 1, 1, 1, 1, 1, 1, 1, 1, 1, 1, 1, 1, 1, 1, 1,\n",
       "       1, 1, 1, 1, 1, 1, 1, 1, 1, 1, 1, 1, 1, 1, 1, 1, 1, 1, 1, 1, 1, 1,\n",
       "       1, 1, 1, 1, 1, 1, 1, 1, 1, 1, 1, 1, 1, 1, 2, 1, 1, 2, 1, 1, 2, 2,\n",
       "       1, 1, 1, 2, 1, 1, 1, 1, 1, 1, 1, 1, 1, 1, 1, 1, 2, 1, 2, 2, 2, 2,\n",
       "       2, 2, 2, 2, 2, 2, 2, 2, 2, 2, 2, 2, 2, 2, 2, 2, 2, 2, 3, 2, 2, 2,\n",
       "       3, 2, 3, 3, 3, 3, 3, 3, 3, 3, 3, 3, 3, 3, 3, 3, 3, 3, 3, 3, 2, 3,\n",
       "       3, 2, 3, 2, 3, 3, 3, 3, 3, 3, 3, 3, 3])"
      ]
     },
     "execution_count": 59,
     "metadata": {},
     "output_type": "execute_result"
    }
   ],
   "source": [
    "cluster_assignments"
   ]
  },
  {
   "cell_type": "code",
   "execution_count": 60,
   "id": "a041d4ce-2891-4a83-ae49-d5bf33aa7901",
   "metadata": {},
   "outputs": [],
   "source": [
    "data_with_assignments = pd.concat([diab, pd.Series(cluster_assignments, name=\"cluster_assignments\"), pd.DataFrame(label_prob, columns=[1, 2, 3])], axis=1)"
   ]
  },
  {
   "cell_type": "code",
   "execution_count": 61,
   "id": "56216ff9-bdad-40a3-9930-9900ecdd5e92",
   "metadata": {},
   "outputs": [
    {
     "data": {
      "text/plain": [
       "group\n",
       "Normal               76\n",
       "Chemical_Diabetic    36\n",
       "Overt_Diabetic       33\n",
       "Name: count, dtype: int64"
      ]
     },
     "execution_count": 61,
     "metadata": {},
     "output_type": "execute_result"
    }
   ],
   "source": [
    "data_with_assignments['group'].value_counts()"
   ]
  },
  {
   "cell_type": "code",
   "execution_count": 62,
   "id": "026a63a3-fb9d-4f9e-8d77-8080aafc16c0",
   "metadata": {},
   "outputs": [
    {
     "data": {
      "text/plain": [
       "cluster_assignments\n",
       "1    78\n",
       "2    35\n",
       "3    32\n",
       "Name: count, dtype: int64"
      ]
     },
     "execution_count": 62,
     "metadata": {},
     "output_type": "execute_result"
    }
   ],
   "source": [
    "data_with_assignments[\"cluster_assignments\"].value_counts()"
   ]
  },
  {
   "cell_type": "code",
   "execution_count": 63,
   "id": "30e56f95-ac10-4f71-af5e-efa329cc1ba2",
   "metadata": {},
   "outputs": [
    {
     "data": {
      "text/html": [
       "<div>\n",
       "<style scoped>\n",
       "    .dataframe tbody tr th:only-of-type {\n",
       "        vertical-align: middle;\n",
       "    }\n",
       "\n",
       "    .dataframe tbody tr th {\n",
       "        vertical-align: top;\n",
       "    }\n",
       "\n",
       "    .dataframe thead th {\n",
       "        text-align: right;\n",
       "    }\n",
       "</style>\n",
       "<table border=\"1\" class=\"dataframe\">\n",
       "  <thead>\n",
       "    <tr style=\"text-align: right;\">\n",
       "      <th></th>\n",
       "      <th>group</th>\n",
       "      <th>cluster_assignments</th>\n",
       "      <th>1</th>\n",
       "      <th>2</th>\n",
       "      <th>3</th>\n",
       "    </tr>\n",
       "  </thead>\n",
       "  <tbody>\n",
       "    <tr>\n",
       "      <th>0</th>\n",
       "      <td>Normal</td>\n",
       "      <td>1</td>\n",
       "      <td>0.884837</td>\n",
       "      <td>0.113410</td>\n",
       "      <td>0.001753</td>\n",
       "    </tr>\n",
       "    <tr>\n",
       "      <th>1</th>\n",
       "      <td>Normal</td>\n",
       "      <td>1</td>\n",
       "      <td>0.996022</td>\n",
       "      <td>0.003815</td>\n",
       "      <td>0.000163</td>\n",
       "    </tr>\n",
       "    <tr>\n",
       "      <th>2</th>\n",
       "      <td>Normal</td>\n",
       "      <td>1</td>\n",
       "      <td>0.991278</td>\n",
       "      <td>0.008351</td>\n",
       "      <td>0.000370</td>\n",
       "    </tr>\n",
       "    <tr>\n",
       "      <th>3</th>\n",
       "      <td>Normal</td>\n",
       "      <td>1</td>\n",
       "      <td>0.978332</td>\n",
       "      <td>0.021422</td>\n",
       "      <td>0.000246</td>\n",
       "    </tr>\n",
       "    <tr>\n",
       "      <th>4</th>\n",
       "      <td>Normal</td>\n",
       "      <td>1</td>\n",
       "      <td>0.992219</td>\n",
       "      <td>0.007648</td>\n",
       "      <td>0.000133</td>\n",
       "    </tr>\n",
       "    <tr>\n",
       "      <th>5</th>\n",
       "      <td>Normal</td>\n",
       "      <td>1</td>\n",
       "      <td>0.884196</td>\n",
       "      <td>0.114682</td>\n",
       "      <td>0.001122</td>\n",
       "    </tr>\n",
       "    <tr>\n",
       "      <th>6</th>\n",
       "      <td>Normal</td>\n",
       "      <td>1</td>\n",
       "      <td>0.987418</td>\n",
       "      <td>0.012388</td>\n",
       "      <td>0.000194</td>\n",
       "    </tr>\n",
       "    <tr>\n",
       "      <th>7</th>\n",
       "      <td>Normal</td>\n",
       "      <td>1</td>\n",
       "      <td>0.989837</td>\n",
       "      <td>0.009933</td>\n",
       "      <td>0.000230</td>\n",
       "    </tr>\n",
       "    <tr>\n",
       "      <th>8</th>\n",
       "      <td>Normal</td>\n",
       "      <td>1</td>\n",
       "      <td>0.960329</td>\n",
       "      <td>0.039296</td>\n",
       "      <td>0.000375</td>\n",
       "    </tr>\n",
       "    <tr>\n",
       "      <th>9</th>\n",
       "      <td>Normal</td>\n",
       "      <td>1</td>\n",
       "      <td>0.995952</td>\n",
       "      <td>0.003906</td>\n",
       "      <td>0.000142</td>\n",
       "    </tr>\n",
       "  </tbody>\n",
       "</table>\n",
       "</div>"
      ],
      "text/plain": [
       "    group  cluster_assignments         1         2         3\n",
       "0  Normal                    1  0.884837  0.113410  0.001753\n",
       "1  Normal                    1  0.996022  0.003815  0.000163\n",
       "2  Normal                    1  0.991278  0.008351  0.000370\n",
       "3  Normal                    1  0.978332  0.021422  0.000246\n",
       "4  Normal                    1  0.992219  0.007648  0.000133\n",
       "5  Normal                    1  0.884196  0.114682  0.001122\n",
       "6  Normal                    1  0.987418  0.012388  0.000194\n",
       "7  Normal                    1  0.989837  0.009933  0.000230\n",
       "8  Normal                    1  0.960329  0.039296  0.000375\n",
       "9  Normal                    1  0.995952  0.003906  0.000142"
      ]
     },
     "execution_count": 63,
     "metadata": {},
     "output_type": "execute_result"
    }
   ],
   "source": [
    "data_with_assignments[data_with_assignments['group']==\"Normal\"][['group', 'cluster_assignments', 1, 2, 3]].head(10)"
   ]
  },
  {
   "cell_type": "code",
   "execution_count": 64,
   "id": "1f1bdf53-16fc-44ce-937d-36afc246a4b3",
   "metadata": {},
   "outputs": [
    {
     "data": {
      "text/html": [
       "<div>\n",
       "<style scoped>\n",
       "    .dataframe tbody tr th:only-of-type {\n",
       "        vertical-align: middle;\n",
       "    }\n",
       "\n",
       "    .dataframe tbody tr th {\n",
       "        vertical-align: top;\n",
       "    }\n",
       "\n",
       "    .dataframe thead th {\n",
       "        text-align: right;\n",
       "    }\n",
       "</style>\n",
       "<table border=\"1\" class=\"dataframe\">\n",
       "  <thead>\n",
       "    <tr style=\"text-align: right;\">\n",
       "      <th></th>\n",
       "      <th>group</th>\n",
       "      <th>cluster_assignments</th>\n",
       "      <th>1</th>\n",
       "      <th>2</th>\n",
       "      <th>3</th>\n",
       "    </tr>\n",
       "  </thead>\n",
       "  <tbody>\n",
       "    <tr>\n",
       "      <th>58</th>\n",
       "      <td>Chemical_Diabetic</td>\n",
       "      <td>2</td>\n",
       "      <td>0.039526</td>\n",
       "      <td>0.953128</td>\n",
       "      <td>0.007346</td>\n",
       "    </tr>\n",
       "    <tr>\n",
       "      <th>61</th>\n",
       "      <td>Chemical_Diabetic</td>\n",
       "      <td>2</td>\n",
       "      <td>0.281536</td>\n",
       "      <td>0.710420</td>\n",
       "      <td>0.008044</td>\n",
       "    </tr>\n",
       "    <tr>\n",
       "      <th>62</th>\n",
       "      <td>Chemical_Diabetic</td>\n",
       "      <td>1</td>\n",
       "      <td>0.549138</td>\n",
       "      <td>0.447721</td>\n",
       "      <td>0.003141</td>\n",
       "    </tr>\n",
       "    <tr>\n",
       "      <th>64</th>\n",
       "      <td>Chemical_Diabetic</td>\n",
       "      <td>2</td>\n",
       "      <td>0.073125</td>\n",
       "      <td>0.906596</td>\n",
       "      <td>0.020280</td>\n",
       "    </tr>\n",
       "    <tr>\n",
       "      <th>65</th>\n",
       "      <td>Chemical_Diabetic</td>\n",
       "      <td>2</td>\n",
       "      <td>0.341612</td>\n",
       "      <td>0.653302</td>\n",
       "      <td>0.005086</td>\n",
       "    </tr>\n",
       "    <tr>\n",
       "      <th>70</th>\n",
       "      <td>Chemical_Diabetic</td>\n",
       "      <td>1</td>\n",
       "      <td>0.662097</td>\n",
       "      <td>0.335390</td>\n",
       "      <td>0.002513</td>\n",
       "    </tr>\n",
       "    <tr>\n",
       "      <th>76</th>\n",
       "      <td>Chemical_Diabetic</td>\n",
       "      <td>1</td>\n",
       "      <td>0.533672</td>\n",
       "      <td>0.463330</td>\n",
       "      <td>0.002998</td>\n",
       "    </tr>\n",
       "    <tr>\n",
       "      <th>82</th>\n",
       "      <td>Chemical_Diabetic</td>\n",
       "      <td>2</td>\n",
       "      <td>0.399466</td>\n",
       "      <td>0.592488</td>\n",
       "      <td>0.008046</td>\n",
       "    </tr>\n",
       "    <tr>\n",
       "      <th>84</th>\n",
       "      <td>Chemical_Diabetic</td>\n",
       "      <td>2</td>\n",
       "      <td>0.087851</td>\n",
       "      <td>0.905537</td>\n",
       "      <td>0.006612</td>\n",
       "    </tr>\n",
       "    <tr>\n",
       "      <th>85</th>\n",
       "      <td>Chemical_Diabetic</td>\n",
       "      <td>2</td>\n",
       "      <td>0.000122</td>\n",
       "      <td>0.972891</td>\n",
       "      <td>0.026987</td>\n",
       "    </tr>\n",
       "  </tbody>\n",
       "</table>\n",
       "</div>"
      ],
      "text/plain": [
       "                group  cluster_assignments         1         2         3\n",
       "58  Chemical_Diabetic                    2  0.039526  0.953128  0.007346\n",
       "61  Chemical_Diabetic                    2  0.281536  0.710420  0.008044\n",
       "62  Chemical_Diabetic                    1  0.549138  0.447721  0.003141\n",
       "64  Chemical_Diabetic                    2  0.073125  0.906596  0.020280\n",
       "65  Chemical_Diabetic                    2  0.341612  0.653302  0.005086\n",
       "70  Chemical_Diabetic                    1  0.662097  0.335390  0.002513\n",
       "76  Chemical_Diabetic                    1  0.533672  0.463330  0.002998\n",
       "82  Chemical_Diabetic                    2  0.399466  0.592488  0.008046\n",
       "84  Chemical_Diabetic                    2  0.087851  0.905537  0.006612\n",
       "85  Chemical_Diabetic                    2  0.000122  0.972891  0.026987"
      ]
     },
     "execution_count": 64,
     "metadata": {},
     "output_type": "execute_result"
    }
   ],
   "source": [
    "data_with_assignments[data_with_assignments['group']==\"Chemical_Diabetic\"][['group', 'cluster_assignments', 1, 2, 3]].head(10)"
   ]
  },
  {
   "cell_type": "code",
   "execution_count": 65,
   "id": "4f135d8e-84cf-4f58-b3f2-8e8656168ff8",
   "metadata": {},
   "outputs": [
    {
     "data": {
      "text/html": [
       "<div>\n",
       "<style scoped>\n",
       "    .dataframe tbody tr th:only-of-type {\n",
       "        vertical-align: middle;\n",
       "    }\n",
       "\n",
       "    .dataframe tbody tr th {\n",
       "        vertical-align: top;\n",
       "    }\n",
       "\n",
       "    .dataframe thead th {\n",
       "        text-align: right;\n",
       "    }\n",
       "</style>\n",
       "<table border=\"1\" class=\"dataframe\">\n",
       "  <thead>\n",
       "    <tr style=\"text-align: right;\">\n",
       "      <th></th>\n",
       "      <th>group</th>\n",
       "      <th>cluster_assignments</th>\n",
       "      <th>1</th>\n",
       "      <th>2</th>\n",
       "      <th>3</th>\n",
       "    </tr>\n",
       "  </thead>\n",
       "  <tbody>\n",
       "    <tr>\n",
       "      <th>112</th>\n",
       "      <td>Overt_Diabetic</td>\n",
       "      <td>3</td>\n",
       "      <td>6.204048e-132</td>\n",
       "      <td>1.675037e-23</td>\n",
       "      <td>1.000000</td>\n",
       "    </tr>\n",
       "    <tr>\n",
       "      <th>113</th>\n",
       "      <td>Overt_Diabetic</td>\n",
       "      <td>3</td>\n",
       "      <td>6.634746e-136</td>\n",
       "      <td>3.987422e-24</td>\n",
       "      <td>1.000000</td>\n",
       "    </tr>\n",
       "    <tr>\n",
       "      <th>114</th>\n",
       "      <td>Overt_Diabetic</td>\n",
       "      <td>3</td>\n",
       "      <td>8.267967e-09</td>\n",
       "      <td>1.228070e-01</td>\n",
       "      <td>0.877193</td>\n",
       "    </tr>\n",
       "    <tr>\n",
       "      <th>115</th>\n",
       "      <td>Overt_Diabetic</td>\n",
       "      <td>3</td>\n",
       "      <td>1.706400e-113</td>\n",
       "      <td>2.318570e-20</td>\n",
       "      <td>1.000000</td>\n",
       "    </tr>\n",
       "    <tr>\n",
       "      <th>116</th>\n",
       "      <td>Overt_Diabetic</td>\n",
       "      <td>3</td>\n",
       "      <td>1.384353e-51</td>\n",
       "      <td>3.890047e-10</td>\n",
       "      <td>1.000000</td>\n",
       "    </tr>\n",
       "    <tr>\n",
       "      <th>117</th>\n",
       "      <td>Overt_Diabetic</td>\n",
       "      <td>3</td>\n",
       "      <td>1.387394e-33</td>\n",
       "      <td>7.499972e-07</td>\n",
       "      <td>0.999999</td>\n",
       "    </tr>\n",
       "    <tr>\n",
       "      <th>118</th>\n",
       "      <td>Overt_Diabetic</td>\n",
       "      <td>3</td>\n",
       "      <td>1.382851e-17</td>\n",
       "      <td>1.496622e-03</td>\n",
       "      <td>0.998503</td>\n",
       "    </tr>\n",
       "    <tr>\n",
       "      <th>119</th>\n",
       "      <td>Overt_Diabetic</td>\n",
       "      <td>3</td>\n",
       "      <td>1.926979e-125</td>\n",
       "      <td>5.678344e-23</td>\n",
       "      <td>1.000000</td>\n",
       "    </tr>\n",
       "    <tr>\n",
       "      <th>120</th>\n",
       "      <td>Overt_Diabetic</td>\n",
       "      <td>3</td>\n",
       "      <td>9.014241e-23</td>\n",
       "      <td>1.905140e-04</td>\n",
       "      <td>0.999810</td>\n",
       "    </tr>\n",
       "    <tr>\n",
       "      <th>121</th>\n",
       "      <td>Overt_Diabetic</td>\n",
       "      <td>3</td>\n",
       "      <td>2.495743e-40</td>\n",
       "      <td>8.392938e-08</td>\n",
       "      <td>1.000000</td>\n",
       "    </tr>\n",
       "  </tbody>\n",
       "</table>\n",
       "</div>"
      ],
      "text/plain": [
       "              group  cluster_assignments              1             2  \\\n",
       "112  Overt_Diabetic                    3  6.204048e-132  1.675037e-23   \n",
       "113  Overt_Diabetic                    3  6.634746e-136  3.987422e-24   \n",
       "114  Overt_Diabetic                    3   8.267967e-09  1.228070e-01   \n",
       "115  Overt_Diabetic                    3  1.706400e-113  2.318570e-20   \n",
       "116  Overt_Diabetic                    3   1.384353e-51  3.890047e-10   \n",
       "117  Overt_Diabetic                    3   1.387394e-33  7.499972e-07   \n",
       "118  Overt_Diabetic                    3   1.382851e-17  1.496622e-03   \n",
       "119  Overt_Diabetic                    3  1.926979e-125  5.678344e-23   \n",
       "120  Overt_Diabetic                    3   9.014241e-23  1.905140e-04   \n",
       "121  Overt_Diabetic                    3   2.495743e-40  8.392938e-08   \n",
       "\n",
       "            3  \n",
       "112  1.000000  \n",
       "113  1.000000  \n",
       "114  0.877193  \n",
       "115  1.000000  \n",
       "116  1.000000  \n",
       "117  0.999999  \n",
       "118  0.998503  \n",
       "119  1.000000  \n",
       "120  0.999810  \n",
       "121  1.000000  "
      ]
     },
     "execution_count": 65,
     "metadata": {},
     "output_type": "execute_result"
    }
   ],
   "source": [
    "data_with_assignments[data_with_assignments['group']==\"Overt_Diabetic\"][['group', 'cluster_assignments', 1, 2, 3]].head(10)"
   ]
  },
  {
   "cell_type": "code",
   "execution_count": 66,
   "id": "ca1691b0-0333-4efa-8101-4720feea9f9d",
   "metadata": {},
   "outputs": [
    {
     "data": {
      "text/plain": [
       "0.9379310344827586"
      ]
     },
     "execution_count": 66,
     "metadata": {},
     "output_type": "execute_result"
    }
   ],
   "source": [
    "num_correct_normal = data_with_assignments[(data_with_assignments['group']==\"Normal\") & (data_with_assignments['cluster_assignments']==1)].shape[0]\n",
    "num_correct_chem = data_with_assignments[(data_with_assignments['group']==\"Chemical_Diabetic\") & (data_with_assignments['cluster_assignments']==2)].shape[0]\n",
    "num_correct_overt = data_with_assignments[(data_with_assignments['group']==\"Overt_Diabetic\") & (data_with_assignments['cluster_assignments']==3)].shape[0]\n",
    "\n",
    "perc_correct = (num_correct_normal + num_correct_chem + num_correct_overt) / diab_ready.shape[0]\n",
    "perc_correct"
   ]
  },
  {
   "cell_type": "markdown",
   "id": "a4881218-5df1-4863-a13a-676c20c85c07",
   "metadata": {},
   "source": [
    "----------\n",
    "# Problem 2 Answers:\n",
    "\n",
    "1. The posterior for 𝜃 is identifiable due to the ordering constraint applied to the mean vectors (mu). By enforcing that the mean vectors are ordered across clusters for each dimension, we break the symmetry that typically causes label switching, which is a common issue in mixture models. This constraint helps ensure that each cluster is distinct and identifiable.\n",
    "2. The most time-consuming aspect was designing and implementing the ordering constraint for the mean vectors to ensure non-exchangeability. This involves modifying the prior for the mean vectors such that they are ordered across clusters, which breaks the symmetry and helps with the identifiability of the clusters.\n",
    "3. From the clusters above it appears that 1 is Normal while 2 is Chemical_Diabetic followed by 3 at Overt_Diabetic\n",
    "4. Yes, we should pay attention to the R^ diagnostics of the `label_prob` variable, this tells us how well the MCMC chains converged and whether they all converged to the same general mean and mode. This is relevant because of the previous exercise where we wanted to ensure our prior distributions were not exchangeable so as to enforce that all MCMC chains converge to the same general area. We can see the success of this in the label prob R^ values as well as other R^ values.\n",
    "5. Person or row 65 was difficult to correctly label likely as a result of being more similar to the Normal group with some predictors while having some predictors closer to the Chemical_Diabetic cluster, this resulted in the data point being more or less split between the two or in this case even closer to Normal resulting in an incorrect labeling.\n",
    "6. Out of all of the assignments we were correct approximately 88% of the time as shown in the above cell computing the number of correct clusters for each of the 3 original groups\n",
    "7. Yes, there is no temporal dynamic within clustering algorithms, it is possible that these clusters change over time or individuals move from one to another and improve/get worse with regards to diabetes which this model fails to consider or account for.\n",
    "----------"
   ]
  },
  {
   "cell_type": "markdown",
   "id": "cbdafa0b-34f4-4775-88bb-6b4cca577d78",
   "metadata": {},
   "source": [
    "### Hints\n",
    "\n",
    "**Expect to do a lot of experimentation with**\n",
    " - which columns to transform or remove so that everything is conditionally normal, \n",
    " - how many clusters to assume you have, and most of all\n",
    " - **how to properly describe your prior beliefs**.\n",
    "\n",
    "The biggest difficult you will have is trying to specify priors to make the posterior identifiable--to know which cluster group is which. **Remember what we said about $\\hat{R}$s in lecture!** Dealing with this also helps with the speed of the algorithm.\n",
    "\n",
    "More hints: \n",
    "\n",
    " 1. Use scatterplots (pairwise or 3-d) to help you visualize how many clusters there need to be. Use Occam's razor!\n",
    " 2. Feel free to \"cheat\" in order to come up with priors that identify your posterior. \n",
    " 3. While you're figuring everything out, it might be faster to prototype to temporarily restrict your attention to a random subset of the data. "
   ]
  }
 ],
 "metadata": {
  "kernelspec": {
   "display_name": "Python 3 (ipykernel)",
   "language": "python",
   "name": "python3"
  },
  "language_info": {
   "codemirror_mode": {
    "name": "ipython",
    "version": 3
   },
   "file_extension": ".py",
   "mimetype": "text/x-python",
   "name": "python",
   "nbconvert_exporter": "python",
   "pygments_lexer": "ipython3",
   "version": "3.11.5"
  }
 },
 "nbformat": 4,
 "nbformat_minor": 5
}
