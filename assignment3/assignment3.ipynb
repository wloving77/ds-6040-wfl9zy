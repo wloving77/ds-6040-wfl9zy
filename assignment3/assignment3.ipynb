{
 "cells": [
  {
   "cell_type": "markdown",
   "id": "540a0931-2d8e-4e91-9f6b-1687fe31d514",
   "metadata": {},
   "source": [
    "# Assignment 3\n",
    "\n",
    "\n",
    "## Instructions\n",
    "\n",
    "Please complete this Jupyter notebook and then convert it to a `.py` file called `assignment3.py`. Upload this file to Gradescope, and await feedback. \n",
    "\n",
    "You may submit as many times as you want up until the deadline. Only your latest submission counts toward your grade.\n",
    "\n",
    "Some tests are hidden and some are visible. The outcome of the visible checks will be displayed to you immediately after you submit to Gradescope. The hidden test outcomes will be revealed after final scores are published. \n",
    "\n",
    "This means that an important part of any strategy is to **start early** and **lock in all the visible test points**. After that, brainstorm what the hidden checks could be and collaborate with your teammates.\n"
   ]
  },
  {
   "cell_type": "markdown",
   "id": "6cc55d78-1310-41df-99c7-8e57817cc15d",
   "metadata": {},
   "source": [
    "### Problem 1\n",
    "\n",
    "\n",
    "Recall the derivation of the posterior\n",
    "\\begin{align}\n",
    "\\pi(\\theta \\mid y) \n",
    "&\\propto L(y \\mid \\theta) \\pi(\\theta) \\\\\n",
    "&\\propto \\underbrace{ \\left\\{ \\theta^{-n/2}\\exp\\left[-\\frac{\\sum_i y_i^2}{2\\theta} \\right] \\right\\}}_{ \\propto L(y \\mid \\theta)} \\underbrace{\\theta^{-(a+1)}\\exp\\left[ - b/\\theta \\right] }_{ \\propto \\pi(\\theta)}  \\\\\n",
    "&= \\theta^{-(a + n/2 + 1)} \\exp\\left[ - \\frac{b  + ns/2}{\\theta}\\right]\n",
    "\\end{align}\n",
    "\n",
    "where $\\theta > 0$ and $\\pi(\\theta) = \\text{Inverse-Gamma}(a,b)$ and\n",
    "\n",
    "$$\n",
    "L(y \\mid \\theta) \\propto \\theta^{-n/2}\\exp\\left[-\\frac{\\sum_i y_i^2}{2\\theta} \\right]\n",
    "$$\n",
    "\n",
    "1.\n",
    "\n",
    "What is the natural logarithm of the normalizing constant of the final line? In other words, what do we have to divide $\\theta^{-(a + n/2 + 1)} \\exp\\left[ - \\frac{b  + ns/2}{\\theta}\\right]$ by so that it integrates to $1$? Then take the natural log of that. \n",
    "\n",
    "Stated differently, what is $\\log \\int_0^\\infty \\theta^{-(a + n/2 + 1)} \\exp\\left[ - \\frac{b  + ns/2}{\\theta}\\right] \\text{d} \\theta$? \n",
    "\n",
    "Assume\n",
    " - $a = 10$\n",
    " - $b = 11$\n",
    " - $n = 42$\n",
    " - $s = 15$\n",
    " \n",
    "\n",
    "\n",
    "Assign your answer to `log_norm_const`\n",
    "\n",
    "NB1: if we didn't use the logarithm, the normalizing constant would be *way* too close to $0$.\n",
    "\n",
    "\n",
    "NB2: You're not doing calculus here. Rely on the fact that every normalized density integrates to $1$."
   ]
  },
  {
   "cell_type": "code",
   "execution_count": 100,
   "id": "0613270a-eb1b-421c-86c1-eb7d4c401f35",
   "metadata": {},
   "outputs": [],
   "source": [
    "from scipy import special\n",
    "import numpy as np\n",
    "\n",
    "def solve_integral(a, n, b, s):\n",
    "    alpha = a + n / 2\n",
    "    beta = b + n * s / 2\n",
    "    \n",
    "    log_gamma_part = special.gammaln(alpha)\n",
    "    log_power_part = -alpha * np.log(beta)\n",
    "    \n",
    "    return log_gamma_part + log_power_part"
   ]
  },
  {
   "cell_type": "code",
   "execution_count": 101,
   "id": "a3236bf8",
   "metadata": {},
   "outputs": [
    {
     "data": {
      "text/plain": [
       "-104.73558247353778"
      ]
     },
     "execution_count": 101,
     "metadata": {},
     "output_type": "execute_result"
    }
   ],
   "source": [
    "log_norm_const = solve_integral(10,42,11,15)\n",
    "log_norm_const"
   ]
  },
  {
   "cell_type": "markdown",
   "id": "26f234bd",
   "metadata": {},
   "source": [
    "2. \n",
    "\n",
    "Are either of these dependent on the value of $\\theta$? If yes, assign `True` to `dependent_on_theta`. Otherwise assign `False`"
   ]
  },
  {
   "cell_type": "code",
   "execution_count": 102,
   "id": "63080bf6",
   "metadata": {},
   "outputs": [],
   "source": [
    "# Because we integrate over theta the normalizing constant is not dependent on theta.\n",
    "dependent_on_theta = False"
   ]
  },
  {
   "cell_type": "markdown",
   "id": "aadfa432-ac5c-402e-a33f-bec9dc2260d4",
   "metadata": {},
   "source": [
    "### Problem 2\n",
    "\n",
    "\n",
    "Assume the same model as the previous question except assume the mean of $y \\mid \\theta$ is now $\\mu \\neq 0$. You can continue to assume that $\\mu$ is still known, it's just nonzero.\n",
    "\n",
    "How do the derivations change? Adapt the derivations and upload a scanned copy of your work to Gradescope portal.\n",
    "\n"
   ]
  },
  {
   "cell_type": "markdown",
   "id": "5d0fdf6e-7f04-49dc-bbad-d8be57ddaaab",
   "metadata": {},
   "source": [
    "--------------\n",
    "\n",
    "### With the mean ($\\mu$) now a part of the Likelihood distribution, the likelihood must contain ($\\mu$) when calculating the sum of the squared error. Because $\\mu$ is known it is just a constant here and thus just another variable alongside a, b, n, and s.\n",
    "\n",
    "$$\n",
    "L(y \\mid \\theta) \\propto \\theta^{-n/2}\\exp\\left[-\\frac{\\sum_i (y_i - \\mu)^2}{2\\theta} \\right]\n",
    "$$\n",
    "\n",
    "$$\n",
    "\\pi(\\theta) \\propto \\theta^{-(a+1)}\\exp\\left[ - \\frac{b}{\\theta} \\right]\n",
    "$$\n",
    "\n",
    "$$\n",
    "\\pi(\\theta \\mid y) \\propto \\theta^{-(a + n/2 + 1)} \\exp\\left[ - \\frac{b + \\sum_i (y_i - \\mu)^2 / 2}{\\theta} \\right]\n",
    "$$\n",
    "\n",
    "--------------"
   ]
  },
  {
   "cell_type": "markdown",
   "id": "eee61d5c-ab03-420a-9217-cd890cc20cd2",
   "metadata": {},
   "source": [
    "### Problem 3\n",
    "\n",
    "Sometimes picking the hyperparameters of a prior can be tricky if they don't have an easy interpretation. Here is a way to pick a prior that involves simulating data. If the data simulations look like you would expect, then the prior is a reasonable choice.\n",
    "\n",
    "Assume the same model as the question one and assume we are dealing with medium-frequency (e.g. every five seconds) stock index percentage returns scaled by $100$. Choose an inverse gamma prior by simulating from the **prior predictive distribution.** The prior predictive distribution is\n",
    "\n",
    "$$\n",
    "p(y) = \\int L(y \\mid \\theta) \\pi(\\theta) \\text{d}\\theta.\n",
    "$$\n",
    "\n",
    "\n",
    "NB1: **do not look at any data before doing this!** You will all have different priors!\n",
    "\n",
    "NB2: it might take you a few iterations of all these subquestions to find hyperparameters that you like. "
   ]
  },
  {
   "cell_type": "markdown",
   "id": "5907abeb",
   "metadata": {},
   "source": [
    "1.\n",
    "\n",
    "First, assign your chosen $a$ and $b$ hyperparameters to `prior_a` and `prior_b`. Please restrict your attention to $a > 2$ (I'll explain why in class)."
   ]
  },
  {
   "cell_type": "code",
   "execution_count": 188,
   "id": "ebf968d6",
   "metadata": {},
   "outputs": [],
   "source": [
    "prior_a = 5\n",
    "prior_b = 35"
   ]
  },
  {
   "cell_type": "markdown",
   "id": "31099685",
   "metadata": {},
   "source": [
    "2.\n",
    "\n",
    "Simulate $\\theta^1, \\theta^2, \\ldots, \\theta^{10,000}$ from the prior. Call these samples `prior_param_samples`\n",
    "\n",
    "NB: we are using a *superscript* to denote iteration number."
   ]
  },
  {
   "cell_type": "code",
   "execution_count": 190,
   "id": "80df460c",
   "metadata": {},
   "outputs": [],
   "source": [
    "import numpy as np\n",
    "import matplotlib.pyplot as plt\n",
    "from scipy.stats import invgamma, norm\n",
    "\n",
    "prior_param_samples = invgamma.rvs(a=prior_a, scale=prior_b, size=10000)"
   ]
  },
  {
   "cell_type": "markdown",
   "id": "7c009461",
   "metadata": {},
   "source": [
    "2.\n",
    "\n",
    "For each parameter sample, simulate $100$ stock returns from the likelihood. Arrange your simulations as one super long numpy array. Call it `prior_predic_samps`.\n",
    "\n",
    "NB: For parameter sample $i$, you have \n",
    "\n",
    "$$\n",
    "y_1, \\ldots, y_{100} \\mid \\theta^i \\sim \\text{Normal}(0, \\theta^i)\n",
    "$$\n",
    "\n",
    "NB2: Each $\\theta^i$ is the **variance** not the standard deviation."
   ]
  },
  {
   "cell_type": "code",
   "execution_count": 191,
   "id": "c39aeac2",
   "metadata": {},
   "outputs": [
    {
     "data": {
      "text/plain": [
       "array([ 2.73087518, -0.09204336, -0.39871202, ...,  0.64430856,\n",
       "       -3.95685859, -0.57948693])"
      ]
     },
     "execution_count": 191,
     "metadata": {},
     "output_type": "execute_result"
    }
   ],
   "source": [
    "prior_predic_samps = [norm.rvs(scale=np.sqrt(theta), size=100) for theta in prior_param_samples]\n",
    "prior_predic_samps = np.concatenate(prior_predic_samps)\n",
    "prior_predic_samps"
   ]
  },
  {
   "cell_type": "markdown",
   "id": "3090eb09",
   "metadata": {},
   "source": [
    "3.\n",
    "\n",
    "Make a histogram of all your data samples. Upload a `.pdf` or a `.png` to Gradescope. Remember, this picture has to agree with your intuition about what stock returns could look like. Otherwise, your prior hyperparameters aren't a good choice!"
   ]
  },
  {
   "cell_type": "code",
   "execution_count": 192,
   "id": "cd53b9ac",
   "metadata": {},
   "outputs": [
    {
     "data": {
      "image/png": "[encoded data removed]",
      "text/plain": [
       "<Figure size 640x480 with 1 Axes>"
      ]
     },
     "metadata": {},
     "output_type": "display_data"
    }
   ],
   "source": [
    "plt.hist(prior_predic_samps, bins=30, density=True, alpha=0.6, color='g')\n",
    "plt.title('Histogram of Simulated Data from Prior Predictive Distribution')\n",
    "plt.xlabel('Simulated Stock Index Returns')\n",
    "plt.ylabel('Density')\n",
    "plt.show()"
   ]
  },
  {
   "cell_type": "markdown",
   "id": "4cf797ce",
   "metadata": {},
   "source": [
    "4.\n",
    "\n",
    "What is the difference between a prior predictive distribution and a posterior predictive distribution? What do they have in common? Upload your free response to Gradescope."
   ]
  },
  {
   "cell_type": "markdown",
   "id": "669ad46a-eb38-44df-a68d-9f43eb81fdea",
   "metadata": {},
   "source": [
    "-----------\n",
    "\n",
    "# Prior Predictive Distribution: \n",
    "\n",
    "P(y) and represents the distribution of the observable data y by integrating or marginalizing out the parameters $\\theta$. This shows what the data may look like after observing it assuming prior knowledge of the parameters $\\theta$\n",
    "\n",
    "# Posterior Predictive Distribution:\n",
    "\n",
    "The posterior predictive distribution p(y_new | y) represents the distribution of future observable data given the data we already have y and integrating over or marginalizing out the parameters $\\theta$. This approach encorporates both the knowledge of the previously observed data or the likelihood as well as prior information learned in the model parameters $\\theta$. \n",
    "\n",
    "-----------"
   ]
  },
  {
   "cell_type": "markdown",
   "id": "1f049dc2",
   "metadata": {},
   "source": [
    "### Problem 4\n",
    "\n",
    "\n",
    "Recall the derivation of the posterior\n",
    "$$\n",
    "\\theta \\mid y_1, \\ldots, y_n \\sim \\text{Normal}\\left( \\bar{x}\\left(\\frac{\\frac{n}{1}}{\\frac{1}{b} + \\frac{n}{1}} \\right) + a\\left(\\frac{\\frac{1}{b}}{\\frac{1}{b} + \\frac{n}{1}} \\right) ,\\frac{1}{\\frac{1}{b} + \\frac{n}{1} } \\right)\n",
    "$$\n",
    "\n",
    "where $\\theta$ is the mean parameter, $\\pi(\\theta) = \\text{Normal}(a,b)$ and \n",
    "\n",
    "\n",
    "The work was \n",
    "$$\n",
    "L(y \\mid \\theta) \\propto \\exp\\left[-\\frac{\\sum_i (y_i-\\theta)^2}{2} \\right]\n",
    "$$\n",
    "\n",
    "\\begin{align}\n",
    "\\pi(\\theta \\mid y) \n",
    "&\\propto L(y \\mid \\theta) \\pi(\\theta) \\\\\n",
    "&\\propto \\exp\\left[ -\\frac{1}{2} \\frac{\\left(\\theta - \\text{post. mean} \\right)^2}{ \\text{post. var.}} \\right]\n",
    "\\end{align}\n",
    "\n",
    "\n",
    "1.\n",
    "\n",
    "What is the natural logarithm of the normalizing constant of the final line? In other words, what do we have to divide $\\exp\\left[ -\\frac{1}{2} \\frac{\\left(\\theta - \\text{post. mean} \\right)^2}{ \\text{post. var.}} \\right]$ by so that it integrates to $1$? Then take the natural log of that. \n",
    "\n",
    "Stated differently, what is $\\log \\int_{-\\infty}^\\infty \\exp\\left[ -\\frac{1}{2} \\frac{\\left(\\theta - \\text{post. mean} \\right)^2}{ \\text{post. var.}} \\right]\\text{d} \\theta$? \n",
    "\n",
    "\n",
    "Assign your answer to `log_norm_const2`\n",
    "\n",
    "NB: You're not doing calculus here. Rely on the fact that every normalized density integrates to $1$.\n",
    "\n",
    "\n",
    "Assume\n",
    " - $a = 10$\n",
    " - $b = 11$\n",
    " - $n = 42$\n",
    " - $\\bar{x} = 15$\n",
    "\n"
   ]
  },
  {
   "cell_type": "code",
   "execution_count": 193,
   "id": "f6e2a3ec",
   "metadata": {},
   "outputs": [
    {
     "data": {
      "text/plain": [
       "-0.950977357439259"
      ]
     },
     "execution_count": 193,
     "metadata": {},
     "output_type": "execute_result"
    }
   ],
   "source": [
    "import math\n",
    "\n",
    "a=10\n",
    "b=11\n",
    "n=42\n",
    "x_bar=15\n",
    "\n",
    "post_mean = x_bar * (n / (1/b + n)) + a * (1/b / (1/b + n))\n",
    "\n",
    "post_var = 1 / (1/b + n)\n",
    "\n",
    "log_norm_const2 = math.log(math.sqrt(2 * math.pi * post_var))\n",
    "log_norm_const2"
   ]
  },
  {
   "cell_type": "markdown",
   "id": "c0eac6ea",
   "metadata": {},
   "source": [
    "### Problem 5\n",
    "\n",
    "\n",
    "Assume the same model as the previous question except assume the variance of $y \\mid \\theta$ is now $\\sigma^2 \\neq 1$. How do the derivations change? Adapt the derivations and upload a scanned copy of your work to Gradescope portal.\n",
    "\n"
   ]
  },
  {
   "cell_type": "markdown",
   "id": "89fb6beb-ac54-4f9f-a3d4-8b8bf0401c5c",
   "metadata": {},
   "source": [
    "-------------\n",
    "\n",
    "Assume the variance of \\(y \\mid \\theta\\) is now \\(\\sigma^2 \\neq 1\\).\n",
    "\n",
    "#### Likelihood:\n",
    "For $(\\sigma^2 \\neq 1)$, the likelihood becomes:\n",
    "\n",
    "$$\n",
    "L(y \\mid \\theta, \\sigma^2) \\propto \\exp\\left[-\\frac{\\sum_i (y_i - \\theta)^2}{2\\sigma^2} \\right]\n",
    "$$\n",
    "\n",
    "#### Prior:\n",
    "The prior for \\(\\theta\\) remains a normal distribution:\n",
    "\n",
    "$$\n",
    "\\pi(\\theta) = \\text{Normal}(a, b)\n",
    "$$\n",
    "\n",
    "#### Posterior:\n",
    "Combining the likelihood and prior:\n",
    "\n",
    "$$\n",
    "\\pi(\\theta \\mid y) \\propto L(y \\mid \\theta, \\sigma^2) \\pi(\\theta)\n",
    "$$\n",
    "\n",
    "Substituting the expressions for the likelihood and the prior:\n",
    "\n",
    "$$\n",
    "\\pi(\\theta \\mid y) \\propto \\exp\\left[ -\\frac{1}{2\\sigma^2} \\sum_i (y_i - \\theta)^2 \\right] \\exp\\left[ -\\frac{1}{2b} (\\theta - a)^2 \\right]\n",
    "$$\n",
    "\n",
    "Combining the exponential terms:\n",
    "\n",
    "$$\n",
    "\\pi(\\theta \\mid y) \\propto \\exp\\left[ -\\frac{1}{2} \\left( \\frac{\\sum_i (y_i - \\theta)^2}{\\sigma^2} + \\frac{(\\theta - a)^2}{b} \\right) \\right]\n",
    "$$\n",
    "\n",
    "Completing the square, we obtain the posterior distribution:\n",
    "\n",
    "$$\n",
    "\\theta \\mid y \\sim \\text{Normal} \\left( \\frac{\\sum_i y_i / \\sigma^2 + a / b}{n / \\sigma^2 + 1 / b}, \\frac{1}{n / \\sigma^2 + 1 / b} \\right)\n",
    "$$\n",
    "\n",
    "--------------"
   ]
  },
  {
   "cell_type": "markdown",
   "id": "778ca598",
   "metadata": {},
   "source": [
    "### Problem 6\n",
    "\n",
    "We will return to the model described in question one. Specifically, we will assume our data are normally distributed with mean $0$, and that we're only uncertain about the variance parameter. We will also use the prior hyperparameters we chose in an earlier problem!\n",
    "\n",
    "Our data set will be intraday stock returns. \n",
    "\n",
    "1.\n",
    "\n",
    "Download and read in the data set `SPY-STK.csv`. Ignore every column except `bid_price_close` and `time`. These are prices of the S\\&P 500 exchange traded fund recorded on March 26, 2024. Call your data set `stock_data` and store it as a `pandas` `DataFrame`. \n"
   ]
  },
  {
   "cell_type": "code",
   "execution_count": 194,
   "id": "dac11e00",
   "metadata": {},
   "outputs": [],
   "source": [
    "import pandas as pd\n",
    "\n",
    "stock_data = pd.read_csv(\"SPY-STK.csv\", usecols=['bid_price_close', 'time'])"
   ]
  },
  {
   "cell_type": "code",
   "execution_count": 195,
   "id": "5a6e16aa-a861-4598-9407-e8e3036d68cc",
   "metadata": {},
   "outputs": [
    {
     "data": {
      "text/html": [
       "<div>\n",
       "<style scoped>\n",
       "    .dataframe tbody tr th:only-of-type {\n",
       "        vertical-align: middle;\n",
       "    }\n",
       "\n",
       "    .dataframe tbody tr th {\n",
       "        vertical-align: top;\n",
       "    }\n",
       "\n",
       "    .dataframe thead th {\n",
       "        text-align: right;\n",
       "    }\n",
       "</style>\n",
       "<table border=\"1\" class=\"dataframe\">\n",
       "  <thead>\n",
       "    <tr style=\"text-align: right;\">\n",
       "      <th></th>\n",
       "      <th>time</th>\n",
       "      <th>bid_price_close</th>\n",
       "    </tr>\n",
       "  </thead>\n",
       "  <tbody>\n",
       "    <tr>\n",
       "      <th>0</th>\n",
       "      <td>2024-03-26T09:22:05</td>\n",
       "      <td>520.81</td>\n",
       "    </tr>\n",
       "    <tr>\n",
       "      <th>1</th>\n",
       "      <td>2024-03-26T09:22:10</td>\n",
       "      <td>520.82</td>\n",
       "    </tr>\n",
       "    <tr>\n",
       "      <th>2</th>\n",
       "      <td>2024-03-26T09:22:15</td>\n",
       "      <td>520.80</td>\n",
       "    </tr>\n",
       "    <tr>\n",
       "      <th>3</th>\n",
       "      <td>2024-03-26T09:22:20</td>\n",
       "      <td>520.81</td>\n",
       "    </tr>\n",
       "    <tr>\n",
       "      <th>4</th>\n",
       "      <td>2024-03-26T09:22:25</td>\n",
       "      <td>520.83</td>\n",
       "    </tr>\n",
       "  </tbody>\n",
       "</table>\n",
       "</div>"
      ],
      "text/plain": [
       "                  time  bid_price_close\n",
       "0  2024-03-26T09:22:05           520.81\n",
       "1  2024-03-26T09:22:10           520.82\n",
       "2  2024-03-26T09:22:15           520.80\n",
       "3  2024-03-26T09:22:20           520.81\n",
       "4  2024-03-26T09:22:25           520.83"
      ]
     },
     "execution_count": 195,
     "metadata": {},
     "output_type": "execute_result"
    }
   ],
   "source": [
    "stock_data.head()"
   ]
  },
  {
   "cell_type": "markdown",
   "id": "e3ff7bfe",
   "metadata": {},
   "source": [
    "2.\n",
    "\n",
    "Calculate percent returns and make sure to scale them by $100$. Store them in a `pandas` `Series` called `one_day_returns`."
   ]
  },
  {
   "cell_type": "code",
   "execution_count": 196,
   "id": "592f8547",
   "metadata": {},
   "outputs": [],
   "source": [
    "one_day_returns = stock_data['bid_price_close'].pct_change()\n",
    "one_day_returns = one_day_returns * 100"
   ]
  },
  {
   "cell_type": "markdown",
   "id": "4d82644b",
   "metadata": {},
   "source": [
    "3.\n",
    "\n",
    "Assign your Inverse Gamma posterior hyperparameters to `posterior_a` and `posterior_b`. Then create an `scipy.stats.invgamma` for your posterior. Give it the right hyperparameters and call it `posterior` "
   ]
  },
  {
   "cell_type": "code",
   "execution_count": 197,
   "id": "96215926",
   "metadata": {},
   "outputs": [],
   "source": [
    "sum_squared_returns = np.sum(one_day_returns ** 2)\n",
    "n = len(one_day_returns)\n",
    "\n",
    "posterior_a = prior_a + n/2\n",
    "posterior_b = prior_b + sum_squared_returns / 2\n",
    "posterior = invgamma(a=posterior_a, scale=posterior_b)"
   ]
  },
  {
   "cell_type": "code",
   "execution_count": 198,
   "id": "e2ec6871",
   "metadata": {},
   "outputs": [
    {
     "data": {
      "text/plain": [
       "array([ 0.17004076,  0.20592599,  0.1161093 , ..., -0.24251702,\n",
       "       -0.11252204, -0.1876098 ])"
      ]
     },
     "execution_count": 198,
     "metadata": {},
     "output_type": "execute_result"
    }
   ],
   "source": [
    "theta_samples = posterior.rvs(size=10000)\n",
    "\n",
    "post_pred_samps = norm.rvs(loc=0, scale=np.sqrt(theta_samples))\n",
    "post_pred_samps"
   ]
  },
  {
   "cell_type": "markdown",
   "id": "3fb1300c",
   "metadata": {},
   "source": [
    "5. \n",
    "\n",
    "\n",
    "Use the posterior predictive samples and create two plots to show whether this model represents reality well. Use a histogram and a time series plot. \n",
    "\n",
    "Do the histograms look similar? Do the time-ordered observations look similar. What are the strengths and weaknesses of this model?\n",
    "\n",
    "What you are doing now is called a **posterior predictive check**. "
   ]
  },
  {
   "cell_type": "code",
   "execution_count": 199,
   "id": "aa863570-8493-402f-810b-5f93e9fe5f2c",
   "metadata": {},
   "outputs": [
    {
     "data": {
      "image/png": "[encoded data removed]",
      "text/plain": [
       "<Figure size 1400x600 with 2 Axes>"
      ]
     },
     "metadata": {},
     "output_type": "display_data"
    }
   ],
   "source": [
    "post_pred_samps_np = np.array(post_pred_samps)\n",
    "\n",
    "plt.figure(figsize=(14, 6))\n",
    "\n",
    "# Histogram\n",
    "plt.subplot(1, 2, 1)\n",
    "plt.hist(one_day_returns, bins=30, alpha=0.5, label='Actual Data')\n",
    "plt.hist(post_pred_samps, bins=30, alpha=0.5, label='Posterior Predictive Samples')\n",
    "plt.xlabel('Returns')\n",
    "plt.ylabel('Frequency')\n",
    "plt.legend()\n",
    "plt.title('Histogram Comparison')\n",
    "\n",
    "# Time Series Plot\n",
    "plt.subplot(1, 2, 2)\n",
    "plt.plot(one_day_returns.values, label='Actual Data')\n",
    "plt.plot(np.random.choice(post_pred_samps, size=len(one_day_returns)), label='Posterior Predictive Samples', alpha=0.7)\n",
    "plt.xlabel('Time')\n",
    "plt.ylabel('Returns')\n",
    "plt.legend()\n",
    "plt.title('Time Series Comparison')\n",
    "\n",
    "plt.tight_layout()\n",
    "plt.show()"
   ]
  },
  {
   "cell_type": "code",
   "execution_count": 98,
   "id": "c740f974-12ac-47a9-8343-b578a1688f0d",
   "metadata": {},
   "outputs": [],
   "source": [
    "# distributions do not match great but with some hyperparameter tuning on the prios could likely be improved"
   ]
  },
  {
   "cell_type": "code",
   "execution_count": null,
   "id": "14ab0c78-0dde-41a1-96eb-290079695764",
   "metadata": {},
   "outputs": [],
   "source": []
  }
 ],
 "metadata": {
  "kernelspec": {
   "display_name": "Python 3 (ipykernel)",
   "language": "python",
   "name": "python3"
  },
  "language_info": {
   "codemirror_mode": {
    "name": "ipython",
    "version": 3
   },
   "file_extension": ".py",
   "mimetype": "text/x-python",
   "name": "python",
   "nbconvert_exporter": "python",
   "pygments_lexer": "ipython3",
   "version": "3.11.5"
  }
 },
 "nbformat": 4,
 "nbformat_minor": 5
}
