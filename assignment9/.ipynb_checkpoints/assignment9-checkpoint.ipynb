{
 "cells": [
  {
   "cell_type": "markdown",
   "id": "540a0931-2d8e-4e91-9f6b-1687fe31d514",
   "metadata": {},
   "source": [
    "# Assignment 9\n",
    "\n",
    "In this assignment we'll re-examine the `Road_Casualties_in_Great_Britain_1969___84_434_19.txt` data set from homework 5. \n",
    "\n",
    "## Instructions\n",
    "\n",
    "Please complete this Jupyter notebook and **don't** convert it to a `.py` file. Upload this notebook, along with any `.stan` files and any data sets as a `zip` file to Gradescope. Your work will be manually graded by our TA. \n",
    "\n",
    "Protip: if you write your `.stan` file generally enough, it will work with most of the models below, and you won't need to keep recompiling the model object!\n"
   ]
  },
  {
   "cell_type": "code",
   "execution_count": 1,
   "id": "e8725c09-fc5a-4726-b352-7a4fffbe4fc8",
   "metadata": {},
   "outputs": [],
   "source": [
    "import pandas as pd\n",
    "import numpy as np\n",
    "import os\n",
    "from cmdstanpy import CmdStanModel\n",
    "import matplotlib.pyplot as plt"
   ]
  },
  {
   "cell_type": "markdown",
   "id": "a1f8344a-55a1-47ad-b96f-bcc6b754f56e",
   "metadata": {},
   "source": [
    "## Data Description\n",
    "\n",
    "This is a road safety data set for car drivers in Great Britain killed or seriously injured Jan 1969 to Dec 1984. Each row of data corresponds to one month of time. \n",
    "\n",
    "The primary question of interest for us is to determine whether the introduction of seat belt laws saves lives. \n",
    "\n",
    "### Explanation of columns:\n",
    "\n",
    " - `DriversKilled` : number car drivers killed.\n",
    " - `drivers`: total number of drivers killed or seriously injured\n",
    " - `front`: front-seat passengers killed or seriously injured.\n",
    " - `rear`: rear-seat passengers killed or seriously injured\n",
    " - `kms`: distance driven.\n",
    " - `PetrolPrice`: the price of gas\n",
    " - `VanKilled`: number of van (‘light goods vehicle’) drivers.\n",
    " - `law`: was the law in effect that month? $0$ if not, $1$ if it was\n"
   ]
  },
  {
   "cell_type": "code",
   "execution_count": 2,
   "id": "3474b139-106d-40ed-9193-b10631e2a61b",
   "metadata": {},
   "outputs": [
    {
     "data": {
      "text/html": [
       "<div>\n",
       "<style scoped>\n",
       "    .dataframe tbody tr th:only-of-type {\n",
       "        vertical-align: middle;\n",
       "    }\n",
       "\n",
       "    .dataframe tbody tr th {\n",
       "        vertical-align: top;\n",
       "    }\n",
       "\n",
       "    .dataframe thead th {\n",
       "        text-align: right;\n",
       "    }\n",
       "</style>\n",
       "<table border=\"1\" class=\"dataframe\">\n",
       "  <thead>\n",
       "    <tr style=\"text-align: right;\">\n",
       "      <th></th>\n",
       "      <th>Unnamed: 0</th>\n",
       "      <th>X</th>\n",
       "      <th>DriversKilled</th>\n",
       "      <th>drivers</th>\n",
       "      <th>front</th>\n",
       "      <th>rear</th>\n",
       "      <th>kms</th>\n",
       "      <th>PetrolPrice</th>\n",
       "      <th>VanKilled</th>\n",
       "      <th>law</th>\n",
       "    </tr>\n",
       "  </thead>\n",
       "  <tbody>\n",
       "    <tr>\n",
       "      <th>0</th>\n",
       "      <td>1</td>\n",
       "      <td>1</td>\n",
       "      <td>107</td>\n",
       "      <td>1687</td>\n",
       "      <td>867</td>\n",
       "      <td>269</td>\n",
       "      <td>9059</td>\n",
       "      <td>0.102972</td>\n",
       "      <td>12</td>\n",
       "      <td>0</td>\n",
       "    </tr>\n",
       "    <tr>\n",
       "      <th>1</th>\n",
       "      <td>2</td>\n",
       "      <td>2</td>\n",
       "      <td>97</td>\n",
       "      <td>1508</td>\n",
       "      <td>825</td>\n",
       "      <td>265</td>\n",
       "      <td>7685</td>\n",
       "      <td>0.102363</td>\n",
       "      <td>6</td>\n",
       "      <td>0</td>\n",
       "    </tr>\n",
       "    <tr>\n",
       "      <th>2</th>\n",
       "      <td>3</td>\n",
       "      <td>3</td>\n",
       "      <td>102</td>\n",
       "      <td>1507</td>\n",
       "      <td>806</td>\n",
       "      <td>319</td>\n",
       "      <td>9963</td>\n",
       "      <td>0.102062</td>\n",
       "      <td>12</td>\n",
       "      <td>0</td>\n",
       "    </tr>\n",
       "    <tr>\n",
       "      <th>3</th>\n",
       "      <td>4</td>\n",
       "      <td>4</td>\n",
       "      <td>87</td>\n",
       "      <td>1385</td>\n",
       "      <td>814</td>\n",
       "      <td>407</td>\n",
       "      <td>10955</td>\n",
       "      <td>0.100873</td>\n",
       "      <td>8</td>\n",
       "      <td>0</td>\n",
       "    </tr>\n",
       "    <tr>\n",
       "      <th>4</th>\n",
       "      <td>5</td>\n",
       "      <td>5</td>\n",
       "      <td>119</td>\n",
       "      <td>1632</td>\n",
       "      <td>991</td>\n",
       "      <td>454</td>\n",
       "      <td>11823</td>\n",
       "      <td>0.101020</td>\n",
       "      <td>10</td>\n",
       "      <td>0</td>\n",
       "    </tr>\n",
       "  </tbody>\n",
       "</table>\n",
       "</div>"
      ],
      "text/plain": [
       "   Unnamed: 0  X  DriversKilled  drivers  front  rear    kms  PetrolPrice  \\\n",
       "0           1  1            107     1687    867   269   9059     0.102972   \n",
       "1           2  2             97     1508    825   265   7685     0.102363   \n",
       "2           3  3            102     1507    806   319   9963     0.102062   \n",
       "3           4  4             87     1385    814   407  10955     0.100873   \n",
       "4           5  5            119     1632    991   454  11823     0.101020   \n",
       "\n",
       "   VanKilled  law  \n",
       "0         12    0  \n",
       "1          6    0  \n",
       "2         12    0  \n",
       "3          8    0  \n",
       "4         10    0  "
      ]
     },
     "execution_count": 2,
     "metadata": {},
     "output_type": "execute_result"
    }
   ],
   "source": [
    "road_data = pd.read_csv(\"Road_Casualties_in_Great_Britain_1969___84_434_19.csv\")\n",
    "road_data.head()"
   ]
  },
  {
   "cell_type": "markdown",
   "id": "59226665-0890-4862-9a8f-8aade61ea2f7",
   "metadata": {},
   "source": [
    "## Problem 1:\n",
    "\n",
    "Recall the arithmetic we did for coming up with an interpretation for the coefficients of a logistic regression model. Perform an analogous derivation for the coefficients of a Poisson regression model. Attach your screenshotted work to this notebook. \n",
    "\n"
   ]
  },
  {
   "cell_type": "markdown",
   "id": "6903a81a-353f-4586-a113-d8b10e26f033",
   "metadata": {},
   "source": [
    "## Derivation\r",
    ":\r\n",
    "\r\n",
    "$$\r\n",
    "\\log(\\lambda_1) = \\beta_0 + \\beta_1 X_1 + \\ldots + \\beta_j X_j + \\ldots + \\beta_p X_p,\r\n",
    "$$\r\n",
    "$$\r\n",
    "\\log(\\lambda_2) = \\beta_0 + \\beta_1 X_1 + \\ldots + \\beta_j (X_j + 1) + \\ldots + \\beta_p X_p.\r\n",
    "$$\r\n",
    "\r\n",
    "The change in $\\log(\\lambda)$ when $X_j$ increases by one unit is:\r\n",
    "\r\n",
    "$$\r\n",
    "\\log(\\lambda_2) - \\log(\\lambda_1) = \\beta_j.\r\n",
    "$$\r\n",
    "\r\n",
    "Exponentiating this, we get:\r\n",
    "\r\n",
    "$$\r\n",
    "\\lambda_2 / \\lambda_1 = e^{\\beta_j}.\r\n",
    "$$\r\n",
    "\r\n",
    "Hence, $e^{\\beta_j}$ is the multiplicative change in the mean $\\lambda$ for a one-unit increase in $X_j$.\r\n"
   ]
  },
  {
   "cell_type": "markdown",
   "id": "f6f17632-6f7c-4e16-9499-5ab24bf18db0",
   "metadata": {},
   "source": [
    "## Problem 2:\n",
    "\n",
    "Fit the following model. Discuss the posterior you found in detail. \n",
    "\n",
    " - $y$ is the monthly sum of `drivers`, `front`, and `rear`.\n",
    " - $x_1$ is `PetrolPrice`\n",
    " - $x_2$ is the `law` dummy variable\n",
    "\n",
    "$$\n",
    "\\log(\\lambda) = \\beta_0 + \\beta_1 x_1 + \\beta_2 x_2 \n",
    "$$\n",
    "\n",
    "$$\n",
    "y \\mid x_1, x_2 \\sim \\text{Poisson}(\\lambda)\n",
    "$$"
   ]
  },
  {
   "cell_type": "code",
   "execution_count": 20,
   "id": "2d480eb1-58e2-4c9f-b667-6093c843355a",
   "metadata": {},
   "outputs": [
    {
     "name": "stderr",
     "output_type": "stream",
     "text": [
      "18:24:52 - cmdstanpy - INFO - compiling stan file /bml24/assignment9/poisson.stan to exe file /bml24/assignment9/poisson\n",
      "18:25:30 - cmdstanpy - INFO - compiled model executable: /bml24/assignment9/poisson\n"
     ]
    }
   ],
   "source": [
    "# work goes here\n",
    "data = road_data[['PetrolPrice','law']].copy()\n",
    "data['y'] = road_data['drivers'] + road_data['front'] + road_data['rear']\n",
    "y = data['y'].copy()\n",
    "X = data[['PetrolPrice', 'law']].copy()\n",
    "\n",
    "stan_data = {\n",
    "    'N':X.shape[0],\n",
    "    'K':X.shape[1],\n",
    "    'y':y,\n",
    "    'X':X\n",
    "}\n",
    "\n",
    "model = CmdStanModel(stan_file=\"./poisson.stan\")"
   ]
  },
  {
   "cell_type": "code",
   "execution_count": 21,
   "id": "673a6aed-24cc-4488-a7df-f46e2573bc51",
   "metadata": {},
   "outputs": [
    {
     "name": "stderr",
     "output_type": "stream",
     "text": [
      "18:25:38 - cmdstanpy - INFO - CmdStan start processing\n"
     ]
    },
    {
     "data": {
      "application/vnd.jupyter.widget-view+json": {
       "model_id": "d099d683199f4034ba67e9c5e274adfe",
       "version_major": 2,
       "version_minor": 0
      },
      "text/plain": [
       "chain 1 |          | 00:00 Status"
      ]
     },
     "metadata": {},
     "output_type": "display_data"
    },
    {
     "data": {
      "application/vnd.jupyter.widget-view+json": {
       "model_id": "c44ca20279904a5084ecdccaf51c3b83",
       "version_major": 2,
       "version_minor": 0
      },
      "text/plain": [
       "chain 2 |          | 00:00 Status"
      ]
     },
     "metadata": {},
     "output_type": "display_data"
    },
    {
     "data": {
      "application/vnd.jupyter.widget-view+json": {
       "model_id": "6fc282bb2dc64646be67b8de4f687fc2",
       "version_major": 2,
       "version_minor": 0
      },
      "text/plain": [
       "chain 3 |          | 00:00 Status"
      ]
     },
     "metadata": {},
     "output_type": "display_data"
    },
    {
     "data": {
      "application/vnd.jupyter.widget-view+json": {
       "model_id": "feac47a9528c46c6a934431ed02225a7",
       "version_major": 2,
       "version_minor": 0
      },
      "text/plain": [
       "chain 4 |          | 00:00 Status"
      ]
     },
     "metadata": {},
     "output_type": "display_data"
    },
    {
     "name": "stdout",
     "output_type": "stream",
     "text": [
      "                                                                                                                                                                                                                                                                                                                                "
     ]
    },
    {
     "name": "stderr",
     "output_type": "stream",
     "text": [
      "18:25:39 - cmdstanpy - INFO - CmdStan done processing.\n"
     ]
    },
    {
     "name": "stdout",
     "output_type": "stream",
     "text": [
      "\n"
     ]
    }
   ],
   "source": [
    "fit = model.sample(data=stan_data)"
   ]
  },
  {
   "cell_type": "markdown",
   "id": "4202eb62-8435-4eab-b754-d77a8e0e6aec",
   "metadata": {},
   "source": [
    "## Problem 2:\n",
    "\n",
    "Come up with some posterior (predictive) summary that suggests you might be missing a predictor that has to do with time!\n"
   ]
  },
  {
   "cell_type": "code",
   "execution_count": 22,
   "id": "dd2c0a88-749d-4cb9-a977-aa186e934632",
   "metadata": {},
   "outputs": [
    {
     "data": {
      "text/html": [
       "<div>\n",
       "<style scoped>\n",
       "    .dataframe tbody tr th:only-of-type {\n",
       "        vertical-align: middle;\n",
       "    }\n",
       "\n",
       "    .dataframe tbody tr th {\n",
       "        vertical-align: top;\n",
       "    }\n",
       "\n",
       "    .dataframe thead th {\n",
       "        text-align: right;\n",
       "    }\n",
       "</style>\n",
       "<table border=\"1\" class=\"dataframe\">\n",
       "  <thead>\n",
       "    <tr style=\"text-align: right;\">\n",
       "      <th></th>\n",
       "      <th>Mean</th>\n",
       "      <th>MCSE</th>\n",
       "      <th>StdDev</th>\n",
       "      <th>5%</th>\n",
       "      <th>50%</th>\n",
       "      <th>95%</th>\n",
       "      <th>N_Eff</th>\n",
       "      <th>N_Eff/s</th>\n",
       "      <th>R_hat</th>\n",
       "    </tr>\n",
       "  </thead>\n",
       "  <tbody>\n",
       "    <tr>\n",
       "      <th>lp__</th>\n",
       "      <td>3.898270e+06</td>\n",
       "      <td>0.122219</td>\n",
       "      <td>4.638730</td>\n",
       "      <td>3.898260e+06</td>\n",
       "      <td>3.898270e+06</td>\n",
       "      <td>3.898270e+06</td>\n",
       "      <td>1440.530</td>\n",
       "      <td>933.592</td>\n",
       "      <td>1.00063</td>\n",
       "    </tr>\n",
       "    <tr>\n",
       "      <th>alpha</th>\n",
       "      <td>8.499670e+00</td>\n",
       "      <td>0.000422</td>\n",
       "      <td>0.012455</td>\n",
       "      <td>8.478790e+00</td>\n",
       "      <td>8.500100e+00</td>\n",
       "      <td>8.520020e+00</td>\n",
       "      <td>872.980</td>\n",
       "      <td>565.768</td>\n",
       "      <td>1.00567</td>\n",
       "    </tr>\n",
       "    <tr>\n",
       "      <th>beta[1]</th>\n",
       "      <td>-4.886490e+00</td>\n",
       "      <td>0.004163</td>\n",
       "      <td>0.122042</td>\n",
       "      <td>-5.085790e+00</td>\n",
       "      <td>-4.889300e+00</td>\n",
       "      <td>-4.685070e+00</td>\n",
       "      <td>859.342</td>\n",
       "      <td>556.930</td>\n",
       "      <td>1.00608</td>\n",
       "    </tr>\n",
       "    <tr>\n",
       "      <th>beta[2]</th>\n",
       "      <td>-1.898940e-01</td>\n",
       "      <td>0.000140</td>\n",
       "      <td>0.004900</td>\n",
       "      <td>-1.977570e-01</td>\n",
       "      <td>-1.899270e-01</td>\n",
       "      <td>-1.817160e-01</td>\n",
       "      <td>1225.450</td>\n",
       "      <td>794.202</td>\n",
       "      <td>1.00539</td>\n",
       "    </tr>\n",
       "  </tbody>\n",
       "</table>\n",
       "</div>"
      ],
      "text/plain": [
       "                 Mean      MCSE    StdDev            5%           50%  \\\n",
       "lp__     3.898270e+06  0.122219  4.638730  3.898260e+06  3.898270e+06   \n",
       "alpha    8.499670e+00  0.000422  0.012455  8.478790e+00  8.500100e+00   \n",
       "beta[1] -4.886490e+00  0.004163  0.122042 -5.085790e+00 -4.889300e+00   \n",
       "beta[2] -1.898940e-01  0.000140  0.004900 -1.977570e-01 -1.899270e-01   \n",
       "\n",
       "                  95%     N_Eff  N_Eff/s    R_hat  \n",
       "lp__     3.898270e+06  1440.530  933.592  1.00063  \n",
       "alpha    8.520020e+00   872.980  565.768  1.00567  \n",
       "beta[1] -4.685070e+00   859.342  556.930  1.00608  \n",
       "beta[2] -1.817160e-01  1225.450  794.202  1.00539  "
      ]
     },
     "execution_count": 22,
     "metadata": {},
     "output_type": "execute_result"
    }
   ],
   "source": [
    "#Posterior fit well with R_hat's solidly close to 1, both beta's have different values and suggest no multicollinearity \n",
    "fit.summary()"
   ]
  },
  {
   "cell_type": "code",
   "execution_count": 91,
   "id": "cf16c06e-f493-476c-96ec-24f7b0ef58fe",
   "metadata": {},
   "outputs": [],
   "source": [
    "def generate_posterior_predictions(fit, X, y):\n",
    "    alpha_samples = fit.alpha\n",
    "    beta_samples = fit.beta\n",
    "    num_samples = len(alpha_samples)\n",
    "    y_pred_samples = np.zeros((num_samples, X.shape[0]))\n",
    "    for i in range(num_samples):\n",
    "        lambda_pred = np.exp(alpha_samples[i] + np.dot(X, beta_samples[i]))\n",
    "        y_pred_samples[i, :] = np.random.poisson(lambda_pred)\n",
    "    return y_pred_samples\n",
    "\n",
    "y_pred_samples = generate_posterior_predictions(fit, X, y)"
   ]
  },
  {
   "cell_type": "code",
   "execution_count": 106,
   "id": "c417f95f-ea66-47b5-86e2-19e799d3cef2",
   "metadata": {},
   "outputs": [
    {
     "data": {
      "image/png": "[encoded data removed]",
      "text/plain": [
       "<Figure size 1000x500 with 1 Axes>"
      ]
     },
     "metadata": {},
     "output_type": "display_data"
    }
   ],
   "source": [
    "# Histograms oddly not well matched up, suggests we are missing something in the predictors that would help improve our distribution fit, likely time based on the \n",
    "\n",
    "def overlay_histograms(generated, observed):\n",
    "    \n",
    "    y_pred_mean = np.mean(generated, axis=0)\n",
    "    \n",
    "    plt.figure(figsize=(10, 5))\n",
    "    plt.hist(y_pred_mean, bins=30, alpha=0.5, label='Predicted Values', color='blue')\n",
    "    plt.hist(observed, bins=30, alpha=0.5, label='Observed Values', color='red')\n",
    "    plt.xlabel('Values')\n",
    "    plt.ylabel('Frequency')\n",
    "    plt.title('Posterior Predictive Check - Overlaid Histograms')\n",
    "    plt.legend()\n",
    "    plt.show()\n",
    "\n",
    "overlay_histograms(y_pred_samples, y)"
   ]
  },
  {
   "cell_type": "markdown",
   "id": "4b3b9056-20bd-4430-9ed4-23749ff1b0cf",
   "metadata": {},
   "source": [
    "## Problem 3:\n",
    "\n",
    "Unfortunately, the previous model doesn't not capture any effect that time might have on the accident rate. You might reason accident rates depend on the month. \n",
    "\n",
    "Fit the following model. Discuss the posterior you found in detail. \n",
    "\n",
    " - $y$ is the monthly sum of `drivers`, `front`, and `rear`.\n",
    " - $x_1$ is `PetrolPrice`\n",
    " - $x_2$ is the `law` dummy variable\n",
    " - $x_3$ is $1$ if it's February\n",
    " - $\\vdots$\n",
    " - $x_{14}$ is $1$ if it's December\n",
    "\n",
    "$$\n",
    "\\log(\\lambda) = \\beta_0 + \\beta_1 x_1 + \\beta_2 x_2 + \\cdots + \\beta_{14} x_{14}\n",
    "$$\n",
    "\n",
    "$$\n",
    "y \\mid x_1, \\ldots, x_{14} \\sim \\text{Poisson}(\\lambda)\n",
    "$$\n",
    "\n",
    "Notice that you have $11$ new dummy variables. January is our baseline and so does not require one. The first observation is January, and it proceeds sequentially with no missing months."
   ]
  },
  {
   "cell_type": "code",
   "execution_count": 100,
   "id": "96028e2b-3a7a-48b3-8b6d-2516edc15f09",
   "metadata": {},
   "outputs": [
    {
     "data": {
      "text/html": [
       "<div>\n",
       "<style scoped>\n",
       "    .dataframe tbody tr th:only-of-type {\n",
       "        vertical-align: middle;\n",
       "    }\n",
       "\n",
       "    .dataframe tbody tr th {\n",
       "        vertical-align: top;\n",
       "    }\n",
       "\n",
       "    .dataframe thead th {\n",
       "        text-align: right;\n",
       "    }\n",
       "</style>\n",
       "<table border=\"1\" class=\"dataframe\">\n",
       "  <thead>\n",
       "    <tr style=\"text-align: right;\">\n",
       "      <th></th>\n",
       "      <th>PetrolPrice</th>\n",
       "      <th>law</th>\n",
       "      <th>2</th>\n",
       "      <th>3</th>\n",
       "      <th>4</th>\n",
       "      <th>5</th>\n",
       "      <th>6</th>\n",
       "      <th>7</th>\n",
       "      <th>8</th>\n",
       "      <th>9</th>\n",
       "      <th>10</th>\n",
       "      <th>11</th>\n",
       "      <th>12</th>\n",
       "    </tr>\n",
       "  </thead>\n",
       "  <tbody>\n",
       "    <tr>\n",
       "      <th>0</th>\n",
       "      <td>0.102972</td>\n",
       "      <td>0</td>\n",
       "      <td>0</td>\n",
       "      <td>0</td>\n",
       "      <td>0</td>\n",
       "      <td>0</td>\n",
       "      <td>0</td>\n",
       "      <td>0</td>\n",
       "      <td>0</td>\n",
       "      <td>0</td>\n",
       "      <td>0</td>\n",
       "      <td>0</td>\n",
       "      <td>0</td>\n",
       "    </tr>\n",
       "    <tr>\n",
       "      <th>1</th>\n",
       "      <td>0.102363</td>\n",
       "      <td>0</td>\n",
       "      <td>1</td>\n",
       "      <td>0</td>\n",
       "      <td>0</td>\n",
       "      <td>0</td>\n",
       "      <td>0</td>\n",
       "      <td>0</td>\n",
       "      <td>0</td>\n",
       "      <td>0</td>\n",
       "      <td>0</td>\n",
       "      <td>0</td>\n",
       "      <td>0</td>\n",
       "    </tr>\n",
       "    <tr>\n",
       "      <th>2</th>\n",
       "      <td>0.102062</td>\n",
       "      <td>0</td>\n",
       "      <td>0</td>\n",
       "      <td>1</td>\n",
       "      <td>0</td>\n",
       "      <td>0</td>\n",
       "      <td>0</td>\n",
       "      <td>0</td>\n",
       "      <td>0</td>\n",
       "      <td>0</td>\n",
       "      <td>0</td>\n",
       "      <td>0</td>\n",
       "      <td>0</td>\n",
       "    </tr>\n",
       "    <tr>\n",
       "      <th>3</th>\n",
       "      <td>0.100873</td>\n",
       "      <td>0</td>\n",
       "      <td>0</td>\n",
       "      <td>0</td>\n",
       "      <td>1</td>\n",
       "      <td>0</td>\n",
       "      <td>0</td>\n",
       "      <td>0</td>\n",
       "      <td>0</td>\n",
       "      <td>0</td>\n",
       "      <td>0</td>\n",
       "      <td>0</td>\n",
       "      <td>0</td>\n",
       "    </tr>\n",
       "    <tr>\n",
       "      <th>4</th>\n",
       "      <td>0.101020</td>\n",
       "      <td>0</td>\n",
       "      <td>0</td>\n",
       "      <td>0</td>\n",
       "      <td>0</td>\n",
       "      <td>1</td>\n",
       "      <td>0</td>\n",
       "      <td>0</td>\n",
       "      <td>0</td>\n",
       "      <td>0</td>\n",
       "      <td>0</td>\n",
       "      <td>0</td>\n",
       "      <td>0</td>\n",
       "    </tr>\n",
       "  </tbody>\n",
       "</table>\n",
       "</div>"
      ],
      "text/plain": [
       "   PetrolPrice  law  2  3  4  5  6  7  8  9  10  11  12\n",
       "0     0.102972    0  0  0  0  0  0  0  0  0   0   0   0\n",
       "1     0.102363    0  1  0  0  0  0  0  0  0   0   0   0\n",
       "2     0.102062    0  0  1  0  0  0  0  0  0   0   0   0\n",
       "3     0.100873    0  0  0  1  0  0  0  0  0   0   0   0\n",
       "4     0.101020    0  0  0  0  1  0  0  0  0   0   0   0"
      ]
     },
     "execution_count": 100,
     "metadata": {},
     "output_type": "execute_result"
    }
   ],
   "source": [
    "# work goes here\n",
    "\n",
    "X_months = np.tile(np.arange(1, 13), 16)  # Repeating months for 3 years\n",
    "\n",
    "one_hot_months = pd.get_dummies(X_months, drop_first=True).astype(int)\n",
    "\n",
    "X2 = pd.concat([X[['PetrolPrice', 'law']], one_hot_months], axis=1)\n",
    "\n",
    "stan_data2 = {\n",
    "    'N':X2.shape[0],\n",
    "    'K':X2.shape[1],\n",
    "    'y':y,\n",
    "    'X':X2\n",
    "}\n",
    "X2.head()"
   ]
  },
  {
   "cell_type": "code",
   "execution_count": 101,
   "id": "416e3206-0a5e-4695-8367-8182cd7ac1d0",
   "metadata": {},
   "outputs": [
    {
     "name": "stderr",
     "output_type": "stream",
     "text": [
      "18:59:24 - cmdstanpy - INFO - CmdStan start processing\n"
     ]
    },
    {
     "data": {
      "application/vnd.jupyter.widget-view+json": {
       "model_id": "ce810d5af65d4ab492ecaacb7959cdfe",
       "version_major": 2,
       "version_minor": 0
      },
      "text/plain": [
       "chain 1 |          | 00:00 Status"
      ]
     },
     "metadata": {},
     "output_type": "display_data"
    },
    {
     "data": {
      "application/vnd.jupyter.widget-view+json": {
       "model_id": "07d356ff30774446a359128b75f42d5c",
       "version_major": 2,
       "version_minor": 0
      },
      "text/plain": [
       "chain 2 |          | 00:00 Status"
      ]
     },
     "metadata": {},
     "output_type": "display_data"
    },
    {
     "data": {
      "application/vnd.jupyter.widget-view+json": {
       "model_id": "a3d1b5d547584a3086e68be27e2160c5",
       "version_major": 2,
       "version_minor": 0
      },
      "text/plain": [
       "chain 3 |          | 00:00 Status"
      ]
     },
     "metadata": {},
     "output_type": "display_data"
    },
    {
     "data": {
      "application/vnd.jupyter.widget-view+json": {
       "model_id": "03d687d8b65b4470984516fb0b71f858",
       "version_major": 2,
       "version_minor": 0
      },
      "text/plain": [
       "chain 4 |          | 00:00 Status"
      ]
     },
     "metadata": {},
     "output_type": "display_data"
    },
    {
     "name": "stdout",
     "output_type": "stream",
     "text": [
      "                                                                                                                                                                                                                                                                                                                                "
     ]
    },
    {
     "name": "stderr",
     "output_type": "stream",
     "text": [
      "18:59:25 - cmdstanpy - INFO - CmdStan done processing.\n"
     ]
    },
    {
     "name": "stdout",
     "output_type": "stream",
     "text": [
      "\n"
     ]
    }
   ],
   "source": [
    "fit2 = model.sample(data=stan_data2)"
   ]
  },
  {
   "cell_type": "code",
   "execution_count": 102,
   "id": "1bbd1746-a23f-4cdf-b8f4-8cfd2408c627",
   "metadata": {},
   "outputs": [
    {
     "data": {
      "text/html": [
       "<div>\n",
       "<style scoped>\n",
       "    .dataframe tbody tr th:only-of-type {\n",
       "        vertical-align: middle;\n",
       "    }\n",
       "\n",
       "    .dataframe tbody tr th {\n",
       "        vertical-align: top;\n",
       "    }\n",
       "\n",
       "    .dataframe thead th {\n",
       "        text-align: right;\n",
       "    }\n",
       "</style>\n",
       "<table border=\"1\" class=\"dataframe\">\n",
       "  <thead>\n",
       "    <tr style=\"text-align: right;\">\n",
       "      <th></th>\n",
       "      <th>Mean</th>\n",
       "      <th>MCSE</th>\n",
       "      <th>StdDev</th>\n",
       "      <th>5%</th>\n",
       "      <th>50%</th>\n",
       "      <th>95%</th>\n",
       "      <th>N_Eff</th>\n",
       "      <th>N_Eff/s</th>\n",
       "      <th>R_hat</th>\n",
       "    </tr>\n",
       "  </thead>\n",
       "  <tbody>\n",
       "    <tr>\n",
       "      <th>lp__</th>\n",
       "      <td>3.901190e+06</td>\n",
       "      <td>0.062387</td>\n",
       "      <td>3.077230</td>\n",
       "      <td>3.901190e+06</td>\n",
       "      <td>3.901190e+06</td>\n",
       "      <td>3.901200e+06</td>\n",
       "      <td>2432.970</td>\n",
       "      <td>1001.640</td>\n",
       "      <td>1.00109</td>\n",
       "    </tr>\n",
       "    <tr>\n",
       "      <th>alpha</th>\n",
       "      <td>8.435650e+00</td>\n",
       "      <td>0.000428</td>\n",
       "      <td>0.013036</td>\n",
       "      <td>8.414180e+00</td>\n",
       "      <td>8.435640e+00</td>\n",
       "      <td>8.457100e+00</td>\n",
       "      <td>926.202</td>\n",
       "      <td>381.310</td>\n",
       "      <td>1.00267</td>\n",
       "    </tr>\n",
       "    <tr>\n",
       "      <th>beta[1]</th>\n",
       "      <td>-4.882020e+00</td>\n",
       "      <td>0.003375</td>\n",
       "      <td>0.117479</td>\n",
       "      <td>-5.078720e+00</td>\n",
       "      <td>-4.879850e+00</td>\n",
       "      <td>-4.694350e+00</td>\n",
       "      <td>1211.690</td>\n",
       "      <td>498.845</td>\n",
       "      <td>1.00116</td>\n",
       "    </tr>\n",
       "    <tr>\n",
       "      <th>beta[2]</th>\n",
       "      <td>-1.924580e-01</td>\n",
       "      <td>0.000102</td>\n",
       "      <td>0.004859</td>\n",
       "      <td>-2.004160e-01</td>\n",
       "      <td>-1.925140e-01</td>\n",
       "      <td>-1.844500e-01</td>\n",
       "      <td>2265.050</td>\n",
       "      <td>932.504</td>\n",
       "      <td>1.00033</td>\n",
       "    </tr>\n",
       "    <tr>\n",
       "      <th>beta[3]</th>\n",
       "      <td>-9.997650e-02</td>\n",
       "      <td>0.000241</td>\n",
       "      <td>0.006947</td>\n",
       "      <td>-1.113200e-01</td>\n",
       "      <td>-1.001020e-01</td>\n",
       "      <td>-8.848270e-02</td>\n",
       "      <td>829.170</td>\n",
       "      <td>341.363</td>\n",
       "      <td>1.00181</td>\n",
       "    </tr>\n",
       "    <tr>\n",
       "      <th>beta[4]</th>\n",
       "      <td>-4.493950e-02</td>\n",
       "      <td>0.000245</td>\n",
       "      <td>0.006888</td>\n",
       "      <td>-5.596430e-02</td>\n",
       "      <td>-4.500600e-02</td>\n",
       "      <td>-3.344890e-02</td>\n",
       "      <td>791.960</td>\n",
       "      <td>326.044</td>\n",
       "      <td>1.00219</td>\n",
       "    </tr>\n",
       "    <tr>\n",
       "      <th>beta[5]</th>\n",
       "      <td>-6.510390e-02</td>\n",
       "      <td>0.000249</td>\n",
       "      <td>0.006940</td>\n",
       "      <td>-7.647490e-02</td>\n",
       "      <td>-6.512680e-02</td>\n",
       "      <td>-5.376430e-02</td>\n",
       "      <td>774.029</td>\n",
       "      <td>318.662</td>\n",
       "      <td>1.00221</td>\n",
       "    </tr>\n",
       "    <tr>\n",
       "      <th>beta[6]</th>\n",
       "      <td>3.413120e-02</td>\n",
       "      <td>0.000254</td>\n",
       "      <td>0.006895</td>\n",
       "      <td>2.287360e-02</td>\n",
       "      <td>3.406570e-02</td>\n",
       "      <td>4.546160e-02</td>\n",
       "      <td>739.403</td>\n",
       "      <td>304.406</td>\n",
       "      <td>1.00132</td>\n",
       "    </tr>\n",
       "    <tr>\n",
       "      <th>beta[7]</th>\n",
       "      <td>1.078130e-02</td>\n",
       "      <td>0.000239</td>\n",
       "      <td>0.006659</td>\n",
       "      <td>-1.480200e-04</td>\n",
       "      <td>1.079500e-02</td>\n",
       "      <td>2.175160e-02</td>\n",
       "      <td>778.279</td>\n",
       "      <td>320.411</td>\n",
       "      <td>1.00154</td>\n",
       "    </tr>\n",
       "    <tr>\n",
       "      <th>beta[8]</th>\n",
       "      <td>9.785160e-02</td>\n",
       "      <td>0.000243</td>\n",
       "      <td>0.006648</td>\n",
       "      <td>8.700750e-02</td>\n",
       "      <td>9.783920e-02</td>\n",
       "      <td>1.088380e-01</td>\n",
       "      <td>747.067</td>\n",
       "      <td>307.561</td>\n",
       "      <td>1.00103</td>\n",
       "    </tr>\n",
       "    <tr>\n",
       "      <th>beta[9]</th>\n",
       "      <td>1.227610e-01</td>\n",
       "      <td>0.000245</td>\n",
       "      <td>0.006751</td>\n",
       "      <td>1.114560e-01</td>\n",
       "      <td>1.228030e-01</td>\n",
       "      <td>1.339240e-01</td>\n",
       "      <td>762.175</td>\n",
       "      <td>313.781</td>\n",
       "      <td>1.00184</td>\n",
       "    </tr>\n",
       "    <tr>\n",
       "      <th>beta[10]</th>\n",
       "      <td>7.811360e-02</td>\n",
       "      <td>0.000255</td>\n",
       "      <td>0.006865</td>\n",
       "      <td>6.660170e-02</td>\n",
       "      <td>7.800030e-02</td>\n",
       "      <td>8.937600e-02</td>\n",
       "      <td>722.514</td>\n",
       "      <td>297.453</td>\n",
       "      <td>1.00120</td>\n",
       "    </tr>\n",
       "    <tr>\n",
       "      <th>beta[11]</th>\n",
       "      <td>1.252150e-01</td>\n",
       "      <td>0.000248</td>\n",
       "      <td>0.006686</td>\n",
       "      <td>1.143020e-01</td>\n",
       "      <td>1.251390e-01</td>\n",
       "      <td>1.360750e-01</td>\n",
       "      <td>724.995</td>\n",
       "      <td>298.475</td>\n",
       "      <td>1.00240</td>\n",
       "    </tr>\n",
       "    <tr>\n",
       "      <th>beta[12]</th>\n",
       "      <td>1.888950e-01</td>\n",
       "      <td>0.000233</td>\n",
       "      <td>0.006576</td>\n",
       "      <td>1.784610e-01</td>\n",
       "      <td>1.887380e-01</td>\n",
       "      <td>2.000610e-01</td>\n",
       "      <td>798.986</td>\n",
       "      <td>328.936</td>\n",
       "      <td>1.00113</td>\n",
       "    </tr>\n",
       "    <tr>\n",
       "      <th>beta[13]</th>\n",
       "      <td>2.564530e-01</td>\n",
       "      <td>0.000239</td>\n",
       "      <td>0.006460</td>\n",
       "      <td>2.460220e-01</td>\n",
       "      <td>2.562780e-01</td>\n",
       "      <td>2.673940e-01</td>\n",
       "      <td>730.627</td>\n",
       "      <td>300.793</td>\n",
       "      <td>1.00294</td>\n",
       "    </tr>\n",
       "  </tbody>\n",
       "</table>\n",
       "</div>"
      ],
      "text/plain": [
       "                  Mean      MCSE    StdDev            5%           50%  \\\n",
       "lp__      3.901190e+06  0.062387  3.077230  3.901190e+06  3.901190e+06   \n",
       "alpha     8.435650e+00  0.000428  0.013036  8.414180e+00  8.435640e+00   \n",
       "beta[1]  -4.882020e+00  0.003375  0.117479 -5.078720e+00 -4.879850e+00   \n",
       "beta[2]  -1.924580e-01  0.000102  0.004859 -2.004160e-01 -1.925140e-01   \n",
       "beta[3]  -9.997650e-02  0.000241  0.006947 -1.113200e-01 -1.001020e-01   \n",
       "beta[4]  -4.493950e-02  0.000245  0.006888 -5.596430e-02 -4.500600e-02   \n",
       "beta[5]  -6.510390e-02  0.000249  0.006940 -7.647490e-02 -6.512680e-02   \n",
       "beta[6]   3.413120e-02  0.000254  0.006895  2.287360e-02  3.406570e-02   \n",
       "beta[7]   1.078130e-02  0.000239  0.006659 -1.480200e-04  1.079500e-02   \n",
       "beta[8]   9.785160e-02  0.000243  0.006648  8.700750e-02  9.783920e-02   \n",
       "beta[9]   1.227610e-01  0.000245  0.006751  1.114560e-01  1.228030e-01   \n",
       "beta[10]  7.811360e-02  0.000255  0.006865  6.660170e-02  7.800030e-02   \n",
       "beta[11]  1.252150e-01  0.000248  0.006686  1.143020e-01  1.251390e-01   \n",
       "beta[12]  1.888950e-01  0.000233  0.006576  1.784610e-01  1.887380e-01   \n",
       "beta[13]  2.564530e-01  0.000239  0.006460  2.460220e-01  2.562780e-01   \n",
       "\n",
       "                   95%     N_Eff   N_Eff/s    R_hat  \n",
       "lp__      3.901200e+06  2432.970  1001.640  1.00109  \n",
       "alpha     8.457100e+00   926.202   381.310  1.00267  \n",
       "beta[1]  -4.694350e+00  1211.690   498.845  1.00116  \n",
       "beta[2]  -1.844500e-01  2265.050   932.504  1.00033  \n",
       "beta[3]  -8.848270e-02   829.170   341.363  1.00181  \n",
       "beta[4]  -3.344890e-02   791.960   326.044  1.00219  \n",
       "beta[5]  -5.376430e-02   774.029   318.662  1.00221  \n",
       "beta[6]   4.546160e-02   739.403   304.406  1.00132  \n",
       "beta[7]   2.175160e-02   778.279   320.411  1.00154  \n",
       "beta[8]   1.088380e-01   747.067   307.561  1.00103  \n",
       "beta[9]   1.339240e-01   762.175   313.781  1.00184  \n",
       "beta[10]  8.937600e-02   722.514   297.453  1.00120  \n",
       "beta[11]  1.360750e-01   724.995   298.475  1.00240  \n",
       "beta[12]  2.000610e-01   798.986   328.936  1.00113  \n",
       "beta[13]  2.673940e-01   730.627   300.793  1.00294  "
      ]
     },
     "execution_count": 102,
     "metadata": {},
     "output_type": "execute_result"
    }
   ],
   "source": [
    "#R_Hat's solid, all hovering very close to 1\n",
    "fit2.summary()"
   ]
  },
  {
   "cell_type": "code",
   "execution_count": 103,
   "id": "83726878-9b22-4284-b404-0afe5e2226ad",
   "metadata": {},
   "outputs": [],
   "source": [
    "y_pred_samples2 = generate_posterior_predictions(fit2, X2, y)"
   ]
  },
  {
   "cell_type": "code",
   "execution_count": 107,
   "id": "4590e589-245b-4db1-bfcc-868025d3146a",
   "metadata": {},
   "outputs": [
    {
     "data": {
      "image/png": "[encoded data removed]",
      "text/plain": [
       "<Figure size 1000x500 with 1 Axes>"
      ]
     },
     "metadata": {},
     "output_type": "display_data"
    }
   ],
   "source": [
    "#Distribution fit significantly better, seems adding time very much helped\n",
    "overlay_histograms(y_pred_samples2, y)"
   ]
  },
  {
   "cell_type": "markdown",
   "id": "cc3e89a8-db18-43dc-b5cb-652b71038718",
   "metadata": {},
   "source": [
    "## Problem 4:\n",
    "\n",
    "\n",
    "Another way to capture a seasonal affect is to use a sine/cosine wave. This does not require a separate predictor for every month. Consider the following function:\n",
    "\n",
    "$$\n",
    "A \\cos(2 \\pi t \\frac{1}{12} + \\phi)\n",
    "$$\n",
    "\n",
    " - $A$ is the *amplitude* that stretches to standard cosine wave up or down\n",
    " - $1/12$ is the *frequency*. In this case, a cycle is made every $12$ observations (we have monthly data).\n",
    " - $\\phi$ is the *phase* that adjusts the wave to start at something different than $1$\n",
    " - $t = 1,2,\\ldots$ is time or in our case the row number\n",
    "\n",
    "We can visualize this function as a function of $t$. Notice that the distance from peak to peak, from trough to trough is exactly the reciprocal of the frequency. The frequency flipped is called the *period*."
   ]
  },
  {
   "cell_type": "code",
   "execution_count": 128,
   "id": "f92df624-d117-4667-9cf2-c5bb246e1c56",
   "metadata": {},
   "outputs": [
    {
     "data": {
      "text/plain": [
       "[<matplotlib.lines.Line2D at 0x7f1aa471e3d0>]"
      ]
     },
     "execution_count": 128,
     "metadata": {},
     "output_type": "execute_result"
    },
    {
     "data": {
      "image/png": "[encoded data removed]",
      "text/plain": [
       "<Figure size 640x480 with 1 Axes>"
      ]
     },
     "metadata": {},
     "output_type": "display_data"
    }
   ],
   "source": [
    "A = 6\n",
    "phi = 1/2\n",
    "t = np.arange(1,193)\n",
    "freq = 1/12\n",
    "wave = A*np.cos(2*np.pi*freq*t + phi)\n",
    "plt.plot(t,wave)"
   ]
  },
  {
   "cell_type": "markdown",
   "id": "092ecafe-a5d9-407a-b1c6-263d4114fab4",
   "metadata": {},
   "source": [
    "The unknown quantities are the phase and the amplitude. If we wanted to estimate these numbers using linear regression, we wouldn't be able to use this expression indirectly. The unknown coefficients are not betas and are not multiplied by the predictor in a linear way.\n",
    "\n",
    "We could use a nonlinear regression, or we could cleverly use some clever trigonometry to rewrite the above function as\n",
    "\n",
    "$$\n",
    "\\beta_{3} \\cos(2 \\pi t [1/12]) + \\beta_{4}\\sin(2 \\pi t [1/12]).\n",
    "$$\n",
    "\n",
    "We'll add two predictors. One for $\\cos(2 \\pi t [1/12])$ and the other for $\\sin(2 \\pi t [1/12])$. \n",
    "\n",
    "\n",
    "Now I can ask you to fit the following model, and discuss the posterior you found. \n",
    "\n",
    "$$\n",
    "\\log(\\lambda) = \\beta_0 + \\beta_1 x_1 + \\beta_2 x_2 + \\beta_{3} x_{3} + \\beta_4 x_4\n",
    "$$\n",
    "\n",
    "$$\n",
    "y \\mid x_1, \\ldots, x_{4} \\sim \\text{Poisson}(\\lambda)\n",
    "$$\n",
    "\n",
    " - $y$ is the monthly sum of `drivers`, `front`, and `rear`.\n",
    " - $x_1$ is `PetrolPrice`\n",
    " - $x_2$ is the `law` dummy variable\n",
    " - $x_3$ is $\\cos(2 \\pi t [1/12])$ with $t$ indicating the row number.\n",
    " - $x_{4}$ is $\\sin(2 \\pi t [1/12])$\n",
    "\n"
   ]
  },
  {
   "cell_type": "code",
   "execution_count": 129,
   "id": "650185cb-94df-4201-8d6c-a547a0d6ee89",
   "metadata": {},
   "outputs": [],
   "source": [
    "# work goes here\n",
    "cos_wave = np.cos(2*np.pi*freq*t)\n",
    "sin_wave = np.sin(2*np.pi*freq*t)\n",
    "\n",
    "waves = pd.DataFrame({'cos': cos_wave, 'sin': sin_wave})\n",
    "\n",
    "X3 = pd.concat([X, waves], axis=1)\n",
    "\n",
    "stan_data3 = {\n",
    "    'N':X3.shape[0],\n",
    "    'K':X3.shape[1],\n",
    "    'y':y,\n",
    "    'X':X3\n",
    "}"
   ]
  },
  {
   "cell_type": "code",
   "execution_count": 130,
   "id": "c8c43fec-c2f8-4dcc-b974-08392b48069a",
   "metadata": {},
   "outputs": [
    {
     "name": "stderr",
     "output_type": "stream",
     "text": [
      "19:16:11 - cmdstanpy - INFO - CmdStan start processing\n"
     ]
    },
    {
     "data": {
      "application/vnd.jupyter.widget-view+json": {
       "model_id": "08fb000a0ec64150a801296b50f7bb3c",
       "version_major": 2,
       "version_minor": 0
      },
      "text/plain": [
       "chain 1 |          | 00:00 Status"
      ]
     },
     "metadata": {},
     "output_type": "display_data"
    },
    {
     "data": {
      "application/vnd.jupyter.widget-view+json": {
       "model_id": "f07da50272244bcf83455b0146df0da1",
       "version_major": 2,
       "version_minor": 0
      },
      "text/plain": [
       "chain 2 |          | 00:00 Status"
      ]
     },
     "metadata": {},
     "output_type": "display_data"
    },
    {
     "data": {
      "application/vnd.jupyter.widget-view+json": {
       "model_id": "963e1485828b4ef4a5319cb94e18b8a9",
       "version_major": 2,
       "version_minor": 0
      },
      "text/plain": [
       "chain 3 |          | 00:00 Status"
      ]
     },
     "metadata": {},
     "output_type": "display_data"
    },
    {
     "data": {
      "application/vnd.jupyter.widget-view+json": {
       "model_id": "d7a882d299bc42528fafde65d8d552f1",
       "version_major": 2,
       "version_minor": 0
      },
      "text/plain": [
       "chain 4 |          | 00:00 Status"
      ]
     },
     "metadata": {},
     "output_type": "display_data"
    },
    {
     "name": "stdout",
     "output_type": "stream",
     "text": [
      "                                                                                                                                                                                                                                                                                                                                "
     ]
    },
    {
     "name": "stderr",
     "output_type": "stream",
     "text": [
      "19:16:12 - cmdstanpy - INFO - CmdStan done processing.\n"
     ]
    },
    {
     "name": "stdout",
     "output_type": "stream",
     "text": [
      "\n"
     ]
    }
   ],
   "source": [
    "fit3 = model.sample(data=stan_data3)"
   ]
  },
  {
   "cell_type": "code",
   "execution_count": 132,
   "id": "99934bae-2f3e-4738-b2f4-ef97980a2db5",
   "metadata": {},
   "outputs": [
    {
     "data": {
      "text/html": [
       "<div>\n",
       "<style scoped>\n",
       "    .dataframe tbody tr th:only-of-type {\n",
       "        vertical-align: middle;\n",
       "    }\n",
       "\n",
       "    .dataframe tbody tr th {\n",
       "        vertical-align: top;\n",
       "    }\n",
       "\n",
       "    .dataframe thead th {\n",
       "        text-align: right;\n",
       "    }\n",
       "</style>\n",
       "<table border=\"1\" class=\"dataframe\">\n",
       "  <thead>\n",
       "    <tr style=\"text-align: right;\">\n",
       "      <th></th>\n",
       "      <th>Mean</th>\n",
       "      <th>MCSE</th>\n",
       "      <th>StdDev</th>\n",
       "      <th>5%</th>\n",
       "      <th>50%</th>\n",
       "      <th>95%</th>\n",
       "      <th>N_Eff</th>\n",
       "      <th>N_Eff/s</th>\n",
       "      <th>R_hat</th>\n",
       "    </tr>\n",
       "  </thead>\n",
       "  <tbody>\n",
       "    <tr>\n",
       "      <th>lp__</th>\n",
       "      <td>3.899980e+06</td>\n",
       "      <td>0.011138</td>\n",
       "      <td>0.590646</td>\n",
       "      <td>3.899980e+06</td>\n",
       "      <td>3.899980e+06</td>\n",
       "      <td>3.899980e+06</td>\n",
       "      <td>2812.370</td>\n",
       "      <td>1707.570</td>\n",
       "      <td>NaN</td>\n",
       "    </tr>\n",
       "    <tr>\n",
       "      <th>alpha</th>\n",
       "      <td>8.489040e+00</td>\n",
       "      <td>0.000433</td>\n",
       "      <td>0.012398</td>\n",
       "      <td>8.468610e+00</td>\n",
       "      <td>8.489020e+00</td>\n",
       "      <td>8.509880e+00</td>\n",
       "      <td>820.941</td>\n",
       "      <td>498.446</td>\n",
       "      <td>1.003310</td>\n",
       "    </tr>\n",
       "    <tr>\n",
       "      <th>beta[1]</th>\n",
       "      <td>-4.812320e+00</td>\n",
       "      <td>0.004260</td>\n",
       "      <td>0.121557</td>\n",
       "      <td>-5.016170e+00</td>\n",
       "      <td>-4.811770e+00</td>\n",
       "      <td>-4.612080e+00</td>\n",
       "      <td>814.415</td>\n",
       "      <td>494.484</td>\n",
       "      <td>1.003580</td>\n",
       "    </tr>\n",
       "    <tr>\n",
       "      <th>beta[2]</th>\n",
       "      <td>-1.909640e-01</td>\n",
       "      <td>0.000119</td>\n",
       "      <td>0.005082</td>\n",
       "      <td>-1.993120e-01</td>\n",
       "      <td>-1.909110e-01</td>\n",
       "      <td>-1.826080e-01</td>\n",
       "      <td>1828.260</td>\n",
       "      <td>1110.050</td>\n",
       "      <td>1.003330</td>\n",
       "    </tr>\n",
       "    <tr>\n",
       "      <th>beta[3]</th>\n",
       "      <td>5.124150e-02</td>\n",
       "      <td>0.000030</td>\n",
       "      <td>0.001860</td>\n",
       "      <td>4.816280e-02</td>\n",
       "      <td>5.123070e-02</td>\n",
       "      <td>5.425910e-02</td>\n",
       "      <td>3781.550</td>\n",
       "      <td>2296.020</td>\n",
       "      <td>0.999253</td>\n",
       "    </tr>\n",
       "    <tr>\n",
       "      <th>beta[4]</th>\n",
       "      <td>-9.852960e-02</td>\n",
       "      <td>0.000028</td>\n",
       "      <td>0.001861</td>\n",
       "      <td>-1.015750e-01</td>\n",
       "      <td>-9.850020e-02</td>\n",
       "      <td>-9.548860e-02</td>\n",
       "      <td>4479.240</td>\n",
       "      <td>2719.640</td>\n",
       "      <td>1.000290</td>\n",
       "    </tr>\n",
       "  </tbody>\n",
       "</table>\n",
       "</div>"
      ],
      "text/plain": [
       "                 Mean      MCSE    StdDev            5%           50%  \\\n",
       "lp__     3.899980e+06  0.011138  0.590646  3.899980e+06  3.899980e+06   \n",
       "alpha    8.489040e+00  0.000433  0.012398  8.468610e+00  8.489020e+00   \n",
       "beta[1] -4.812320e+00  0.004260  0.121557 -5.016170e+00 -4.811770e+00   \n",
       "beta[2] -1.909640e-01  0.000119  0.005082 -1.993120e-01 -1.909110e-01   \n",
       "beta[3]  5.124150e-02  0.000030  0.001860  4.816280e-02  5.123070e-02   \n",
       "beta[4] -9.852960e-02  0.000028  0.001861 -1.015750e-01 -9.850020e-02   \n",
       "\n",
       "                  95%     N_Eff   N_Eff/s     R_hat  \n",
       "lp__     3.899980e+06  2812.370  1707.570       NaN  \n",
       "alpha    8.509880e+00   820.941   498.446  1.003310  \n",
       "beta[1] -4.612080e+00   814.415   494.484  1.003580  \n",
       "beta[2] -1.826080e-01  1828.260  1110.050  1.003330  \n",
       "beta[3]  5.425910e-02  3781.550  2296.020  0.999253  \n",
       "beta[4] -9.548860e-02  4479.240  2719.640  1.000290  "
      ]
     },
     "execution_count": 132,
     "metadata": {},
     "output_type": "execute_result"
    }
   ],
   "source": [
    "# R_hat's decently around 1\n",
    "fit3.summary()"
   ]
  },
  {
   "cell_type": "code",
   "execution_count": 134,
   "id": "f11e49f8-b939-4212-b862-86f50ddaaa7f",
   "metadata": {},
   "outputs": [
    {
     "data": {
      "image/png": "[encoded data removed]",
      "text/plain": [
       "<Figure size 1000x500 with 1 Axes>"
      ]
     },
     "metadata": {},
     "output_type": "display_data"
    }
   ],
   "source": [
    "# Once again, similar to the above, a decent fit to the actual distribution\n",
    "y_pred_samples3 = generate_posterior_predictions(fit3, X3, y)\n",
    "overlay_histograms(y_pred_samples3, y)"
   ]
  },
  {
   "cell_type": "markdown",
   "id": "05c354b1-c066-44ae-b8a5-2afdef3e657c",
   "metadata": {},
   "source": [
    "## Problem 5:\n",
    "\n",
    "We should also discuss **offsets** which is another trick you can use in Poisson regression. \n",
    "\n",
    "In Poisson regression, we estimate the varying $\\lambda$. This is the average number of occurences of a count. Each row has a different average depending on what that row's predictors are.\n",
    "\n",
    "However, sometimes one is interested or compelled to estimate a *rate*. \n",
    "\n",
    "A rate can be thought of as an average count **per unit of something else.** It can be average count *per unit time* or average count *per unit space* or something else. Then there is a simple transformation you can make to your model that will allow a Poisson regression to be employed. \n",
    "\n",
    "Let's suppose we are interest in estimating $\\lambda / \\text{time}$. Suppose $\\text{time}$ is different for each row, and that's why we want to take it into account. \n",
    "\n",
    "\n",
    "If \n",
    "$$\n",
    "\\log\\left(\\frac{\\lambda}{\\text{time}}\\right) = \\beta_0 + \\beta_1 x_1 + \\beta_2 x_2 \n",
    "$$\n",
    "\n",
    "then\n",
    "\n",
    "$$\n",
    "\\log\\left(\\lambda\\right) = \\log(\\text{time}) + \\beta_0 + \\beta_1 x_1 + \\beta_2 x_2 \n",
    "$$\n",
    "\n",
    "So, an **offset is a predictor that has a forced coefficient of $1$**.\n",
    "\n",
    "NB: We aren't going to use time in our problem below--because every row has the same amount of time: one month--but this is just an assumption for my explanation.  \n"
   ]
  },
  {
   "cell_type": "markdown",
   "id": "9cf10393-d20e-43d8-b6c6-39d93898ebf7",
   "metadata": {},
   "source": [
    "Fit the following model to estimate the average rate of accidents **per kilometer driven**. Discuss the posterior you found in detail. Comment on whether ommitting any time predictors is stil problematic with this offset. Also comment on whether the two original predictors are still deserving enough to be included.\n",
    "\n",
    "\n",
    "\n",
    "$$\n",
    "\\log\\left(\\frac{\\lambda}{\\text{kms}}\\right) = \\beta_0 + \\beta_1 x_1 + \\beta_2 x_2 \n",
    "$$\n",
    "\n",
    "\n",
    " - $y$ is the monthly sum of `drivers`, `front`, and `rear`.\n",
    " - $x_1$ is `PetrolPrice`\n",
    " - $x_2$ is the `law` dummy variable\n",
    " - $\\text{kms}$ is an offset relating to the `kms` column\n"
   ]
  },
  {
   "cell_type": "code",
   "execution_count": 169,
   "id": "fe8e5f9d-52db-4d6a-bb0a-92d97ceddf1d",
   "metadata": {},
   "outputs": [
    {
     "name": "stderr",
     "output_type": "stream",
     "text": [
      "19:35:58 - cmdstanpy - INFO - compiling stan file /bml24/assignment9/poisson_offset.stan to exe file /bml24/assignment9/poisson_offset\n",
      "19:36:26 - cmdstanpy - INFO - compiled model executable: /bml24/assignment9/poisson_offset\n"
     ]
    }
   ],
   "source": [
    "model_offset = CmdStanModel(stan_file=\"./poisson_offset.stan\")"
   ]
  },
  {
   "cell_type": "code",
   "execution_count": 170,
   "id": "4ccc0690-ca39-4b8d-be1b-bced4b8e82df",
   "metadata": {},
   "outputs": [
    {
     "name": "stderr",
     "output_type": "stream",
     "text": [
      "19:36:35 - cmdstanpy - INFO - CmdStan start processing\n"
     ]
    },
    {
     "data": {
      "application/vnd.jupyter.widget-view+json": {
       "model_id": "c6705d6b04714ad480ff43859e47003d",
       "version_major": 2,
       "version_minor": 0
      },
      "text/plain": [
       "chain 1 |          | 00:00 Status"
      ]
     },
     "metadata": {},
     "output_type": "display_data"
    },
    {
     "data": {
      "application/vnd.jupyter.widget-view+json": {
       "model_id": "5d121b5be49b4acda6ced1794c427a7e",
       "version_major": 2,
       "version_minor": 0
      },
      "text/plain": [
       "chain 2 |          | 00:00 Status"
      ]
     },
     "metadata": {},
     "output_type": "display_data"
    },
    {
     "data": {
      "application/vnd.jupyter.widget-view+json": {
       "model_id": "21e3fe17f3c8478aa318d8e254825aa8",
       "version_major": 2,
       "version_minor": 0
      },
      "text/plain": [
       "chain 3 |          | 00:00 Status"
      ]
     },
     "metadata": {},
     "output_type": "display_data"
    },
    {
     "data": {
      "application/vnd.jupyter.widget-view+json": {
       "model_id": "99511de86a3f462fb38b42fe0f003c57",
       "version_major": 2,
       "version_minor": 0
      },
      "text/plain": [
       "chain 4 |          | 00:00 Status"
      ]
     },
     "metadata": {},
     "output_type": "display_data"
    },
    {
     "name": "stdout",
     "output_type": "stream",
     "text": [
      "                                                                                                                                                                                                                                                                                                                                "
     ]
    },
    {
     "name": "stderr",
     "output_type": "stream",
     "text": [
      "19:36:36 - cmdstanpy - INFO - CmdStan done processing.\n"
     ]
    },
    {
     "name": "stdout",
     "output_type": "stream",
     "text": [
      "\n"
     ]
    }
   ],
   "source": [
    "stan_data4 = {\n",
    "    'N':X.shape[0],\n",
    "    'K':X.shape[1],\n",
    "    'y':y.values,\n",
    "    'X':X.values,\n",
    "    'modifier': np.log(road_data['kms'].values)\n",
    "}\n",
    "\n",
    "fit4 = model_offset.sample(data=stan_data4)"
   ]
  },
  {
   "cell_type": "code",
   "execution_count": 172,
   "id": "b16e32ca-2e22-42ab-81a0-69e09a3fac2d",
   "metadata": {},
   "outputs": [
    {
     "data": {
      "text/html": [
       "<div>\n",
       "<style scoped>\n",
       "    .dataframe tbody tr th:only-of-type {\n",
       "        vertical-align: middle;\n",
       "    }\n",
       "\n",
       "    .dataframe tbody tr th {\n",
       "        vertical-align: top;\n",
       "    }\n",
       "\n",
       "    .dataframe thead th {\n",
       "        text-align: right;\n",
       "    }\n",
       "</style>\n",
       "<table border=\"1\" class=\"dataframe\">\n",
       "  <thead>\n",
       "    <tr style=\"text-align: right;\">\n",
       "      <th></th>\n",
       "      <th>Mean</th>\n",
       "      <th>MCSE</th>\n",
       "      <th>StdDev</th>\n",
       "      <th>5%</th>\n",
       "      <th>50%</th>\n",
       "      <th>95%</th>\n",
       "      <th>N_Eff</th>\n",
       "      <th>N_Eff/s</th>\n",
       "      <th>R_hat</th>\n",
       "    </tr>\n",
       "  </thead>\n",
       "  <tbody>\n",
       "    <tr>\n",
       "      <th>lp__</th>\n",
       "      <td>3.888800e+06</td>\n",
       "      <td>0.122759</td>\n",
       "      <td>4.790840</td>\n",
       "      <td>3.888800e+06</td>\n",
       "      <td>3.888800e+06</td>\n",
       "      <td>3.888810e+06</td>\n",
       "      <td>1523.050</td>\n",
       "      <td>567.034</td>\n",
       "      <td>1.00391</td>\n",
       "    </tr>\n",
       "    <tr>\n",
       "      <th>alpha</th>\n",
       "      <td>-7.175500e-01</td>\n",
       "      <td>0.000432</td>\n",
       "      <td>0.012003</td>\n",
       "      <td>-7.371820e-01</td>\n",
       "      <td>-7.176200e-01</td>\n",
       "      <td>-6.978540e-01</td>\n",
       "      <td>770.632</td>\n",
       "      <td>286.907</td>\n",
       "      <td>1.00243</td>\n",
       "    </tr>\n",
       "    <tr>\n",
       "      <th>beta[1]</th>\n",
       "      <td>-8.431320e+00</td>\n",
       "      <td>0.004269</td>\n",
       "      <td>0.117716</td>\n",
       "      <td>-8.626370e+00</td>\n",
       "      <td>-8.429570e+00</td>\n",
       "      <td>-8.240730e+00</td>\n",
       "      <td>760.422</td>\n",
       "      <td>283.106</td>\n",
       "      <td>1.00248</td>\n",
       "    </tr>\n",
       "    <tr>\n",
       "      <th>beta[2]</th>\n",
       "      <td>-4.060820e-01</td>\n",
       "      <td>0.000136</td>\n",
       "      <td>0.004933</td>\n",
       "      <td>-4.141970e-01</td>\n",
       "      <td>-4.060420e-01</td>\n",
       "      <td>-3.980530e-01</td>\n",
       "      <td>1324.210</td>\n",
       "      <td>493.004</td>\n",
       "      <td>1.00165</td>\n",
       "    </tr>\n",
       "    <tr>\n",
       "      <th>y_pred[1]</th>\n",
       "      <td>1.856280e+03</td>\n",
       "      <td>0.689017</td>\n",
       "      <td>43.375700</td>\n",
       "      <td>1.784000e+03</td>\n",
       "      <td>1.856000e+03</td>\n",
       "      <td>1.928000e+03</td>\n",
       "      <td>3963.090</td>\n",
       "      <td>1475.460</td>\n",
       "      <td>1.00045</td>\n",
       "    </tr>\n",
       "  </tbody>\n",
       "</table>\n",
       "</div>"
      ],
      "text/plain": [
       "                   Mean      MCSE     StdDev            5%           50%  \\\n",
       "lp__       3.888800e+06  0.122759   4.790840  3.888800e+06  3.888800e+06   \n",
       "alpha     -7.175500e-01  0.000432   0.012003 -7.371820e-01 -7.176200e-01   \n",
       "beta[1]   -8.431320e+00  0.004269   0.117716 -8.626370e+00 -8.429570e+00   \n",
       "beta[2]   -4.060820e-01  0.000136   0.004933 -4.141970e-01 -4.060420e-01   \n",
       "y_pred[1]  1.856280e+03  0.689017  43.375700  1.784000e+03  1.856000e+03   \n",
       "\n",
       "                    95%     N_Eff   N_Eff/s    R_hat  \n",
       "lp__       3.888810e+06  1523.050   567.034  1.00391  \n",
       "alpha     -6.978540e-01   770.632   286.907  1.00243  \n",
       "beta[1]   -8.240730e+00   760.422   283.106  1.00248  \n",
       "beta[2]   -3.980530e-01  1324.210   493.004  1.00165  \n",
       "y_pred[1]  1.928000e+03  3963.090  1475.460  1.00045  "
      ]
     },
     "execution_count": 172,
     "metadata": {},
     "output_type": "execute_result"
    }
   ],
   "source": [
    "# R_hats solid, all hovering near 1\n",
    "fit4.summary().head()"
   ]
  },
  {
   "cell_type": "code",
   "execution_count": 181,
   "id": "9efd11d1-59f4-444b-a5ad-2dbc145efeed",
   "metadata": {},
   "outputs": [],
   "source": [
    "y_pred_samples4 = fit4.y_pred[:192]"
   ]
  },
  {
   "cell_type": "code",
   "execution_count": 183,
   "id": "60baf3f1-bc68-4741-aa2c-221a645a52a9",
   "metadata": {},
   "outputs": [
    {
     "data": {
      "image/png": "[encoded data removed]",
      "text/plain": [
       "<Figure size 1000x500 with 1 Axes>"
      ]
     },
     "metadata": {},
     "output_type": "display_data"
    }
   ],
   "source": [
    "# Actually very solid overlapping, seems the offset worked on some level.\n",
    "overlay_histograms(y_pred_samples4, y)"
   ]
  },
  {
   "cell_type": "markdown",
   "id": "79e4c51b-d9d5-4810-8480-00f7a9ebb231",
   "metadata": {},
   "source": [
    "## Problem 6:\n",
    "\n",
    "Recommend a final model that is a revisement of the previous model. Estimate it in `stan` and discuss the posterior in detail. Comment on whether you believe the seat belt law has an effect!\n",
    "\n"
   ]
  },
  {
   "cell_type": "code",
   "execution_count": 185,
   "id": "13e2059f-ecb5-4184-bb71-c7ead19a7692",
   "metadata": {},
   "outputs": [
    {
     "name": "stderr",
     "output_type": "stream",
     "text": [
      "19:41:40 - cmdstanpy - INFO - CmdStan start processing\n"
     ]
    },
    {
     "data": {
      "application/vnd.jupyter.widget-view+json": {
       "model_id": "63d8d83e71ba41c6bc8066c884745f61",
       "version_major": 2,
       "version_minor": 0
      },
      "text/plain": [
       "chain 1 |          | 00:00 Status"
      ]
     },
     "metadata": {},
     "output_type": "display_data"
    },
    {
     "data": {
      "application/vnd.jupyter.widget-view+json": {
       "model_id": "ac648fb6f2f14f43abad012f6a510074",
       "version_major": 2,
       "version_minor": 0
      },
      "text/plain": [
       "chain 2 |          | 00:00 Status"
      ]
     },
     "metadata": {},
     "output_type": "display_data"
    },
    {
     "data": {
      "application/vnd.jupyter.widget-view+json": {
       "model_id": "ca8bc3ae266b459fa96daafb3262850a",
       "version_major": 2,
       "version_minor": 0
      },
      "text/plain": [
       "chain 3 |          | 00:00 Status"
      ]
     },
     "metadata": {},
     "output_type": "display_data"
    },
    {
     "data": {
      "application/vnd.jupyter.widget-view+json": {
       "model_id": "d3f056c5408646e0bbcffe8247373b44",
       "version_major": 2,
       "version_minor": 0
      },
      "text/plain": [
       "chain 4 |          | 00:00 Status"
      ]
     },
     "metadata": {},
     "output_type": "display_data"
    },
    {
     "name": "stdout",
     "output_type": "stream",
     "text": [
      "                                                                                                                                                                                                                                                                                                                                "
     ]
    },
    {
     "name": "stderr",
     "output_type": "stream",
     "text": [
      "19:41:42 - cmdstanpy - INFO - CmdStan done processing.\n"
     ]
    },
    {
     "name": "stdout",
     "output_type": "stream",
     "text": [
      "\n"
     ]
    }
   ],
   "source": [
    "# Final model is going to add back the month data but also include the kms offset.\n",
    "\n",
    "stan_data5 = {\n",
    "    \"N\": X2.shape[0],\n",
    "    \"K\": X2.shape[1],\n",
    "    \"y\": y.values,\n",
    "    \"X\": X2.values,\n",
    "    \"modifier\": np.log(road_data['kms'].values)\n",
    "}\n",
    "\n",
    "fit5 = model_offset.sample(data=stan_data5)"
   ]
  },
  {
   "cell_type": "code",
   "execution_count": 188,
   "id": "f00299fe-676d-4532-8ace-8199b516565f",
   "metadata": {},
   "outputs": [
    {
     "data": {
      "text/html": [
       "<div>\n",
       "<style scoped>\n",
       "    .dataframe tbody tr th:only-of-type {\n",
       "        vertical-align: middle;\n",
       "    }\n",
       "\n",
       "    .dataframe tbody tr th {\n",
       "        vertical-align: top;\n",
       "    }\n",
       "\n",
       "    .dataframe thead th {\n",
       "        text-align: right;\n",
       "    }\n",
       "</style>\n",
       "<table border=\"1\" class=\"dataframe\">\n",
       "  <thead>\n",
       "    <tr style=\"text-align: right;\">\n",
       "      <th></th>\n",
       "      <th>Mean</th>\n",
       "      <th>MCSE</th>\n",
       "      <th>StdDev</th>\n",
       "      <th>5%</th>\n",
       "      <th>50%</th>\n",
       "      <th>95%</th>\n",
       "      <th>N_Eff</th>\n",
       "      <th>N_Eff/s</th>\n",
       "      <th>R_hat</th>\n",
       "    </tr>\n",
       "  </thead>\n",
       "  <tbody>\n",
       "    <tr>\n",
       "      <th>lp__</th>\n",
       "      <td>3.894120e+06</td>\n",
       "      <td>0.072517</td>\n",
       "      <td>3.523490</td>\n",
       "      <td>3.894120e+06</td>\n",
       "      <td>3.894120e+06</td>\n",
       "      <td>3.894130e+06</td>\n",
       "      <td>2360.830</td>\n",
       "      <td>606.429</td>\n",
       "      <td>1.00034</td>\n",
       "    </tr>\n",
       "    <tr>\n",
       "      <th>alpha</th>\n",
       "      <td>-6.220980e-01</td>\n",
       "      <td>0.000392</td>\n",
       "      <td>0.012562</td>\n",
       "      <td>-6.425060e-01</td>\n",
       "      <td>-6.220860e-01</td>\n",
       "      <td>-6.016240e-01</td>\n",
       "      <td>1025.790</td>\n",
       "      <td>263.497</td>\n",
       "      <td>1.00227</td>\n",
       "    </tr>\n",
       "    <tr>\n",
       "      <th>beta[1]</th>\n",
       "      <td>-8.214180e+00</td>\n",
       "      <td>0.003285</td>\n",
       "      <td>0.114326</td>\n",
       "      <td>-8.401520e+00</td>\n",
       "      <td>-8.214680e+00</td>\n",
       "      <td>-8.029210e+00</td>\n",
       "      <td>1211.380</td>\n",
       "      <td>311.168</td>\n",
       "      <td>1.00011</td>\n",
       "    </tr>\n",
       "    <tr>\n",
       "      <th>beta[2]</th>\n",
       "      <td>-4.073160e-01</td>\n",
       "      <td>0.000103</td>\n",
       "      <td>0.004886</td>\n",
       "      <td>-4.153430e-01</td>\n",
       "      <td>-4.073470e-01</td>\n",
       "      <td>-3.991910e-01</td>\n",
       "      <td>2238.120</td>\n",
       "      <td>574.908</td>\n",
       "      <td>1.00018</td>\n",
       "    </tr>\n",
       "    <tr>\n",
       "      <th>beta[3]</th>\n",
       "      <td>-7.454110e-02</td>\n",
       "      <td>0.000231</td>\n",
       "      <td>0.006953</td>\n",
       "      <td>-8.609410e-02</td>\n",
       "      <td>-7.457940e-02</td>\n",
       "      <td>-6.298480e-02</td>\n",
       "      <td>902.905</td>\n",
       "      <td>231.930</td>\n",
       "      <td>1.00463</td>\n",
       "    </tr>\n",
       "    <tr>\n",
       "      <th>beta[4]</th>\n",
       "      <td>-1.755820e-01</td>\n",
       "      <td>0.000235</td>\n",
       "      <td>0.006843</td>\n",
       "      <td>-1.868520e-01</td>\n",
       "      <td>-1.755720e-01</td>\n",
       "      <td>-1.640800e-01</td>\n",
       "      <td>847.821</td>\n",
       "      <td>217.781</td>\n",
       "      <td>1.00668</td>\n",
       "    </tr>\n",
       "    <tr>\n",
       "      <th>beta[5]</th>\n",
       "      <td>-2.302070e-01</td>\n",
       "      <td>0.000231</td>\n",
       "      <td>0.006975</td>\n",
       "      <td>-2.414680e-01</td>\n",
       "      <td>-2.303410e-01</td>\n",
       "      <td>-2.187680e-01</td>\n",
       "      <td>914.800</td>\n",
       "      <td>234.986</td>\n",
       "      <td>1.00684</td>\n",
       "    </tr>\n",
       "    <tr>\n",
       "      <th>beta[6]</th>\n",
       "      <td>-2.078150e-01</td>\n",
       "      <td>0.000220</td>\n",
       "      <td>0.006637</td>\n",
       "      <td>-2.190080e-01</td>\n",
       "      <td>-2.076080e-01</td>\n",
       "      <td>-1.969430e-01</td>\n",
       "      <td>912.155</td>\n",
       "      <td>234.306</td>\n",
       "      <td>1.00374</td>\n",
       "    </tr>\n",
       "    <tr>\n",
       "      <th>beta[7]</th>\n",
       "      <td>-2.397130e-01</td>\n",
       "      <td>0.000222</td>\n",
       "      <td>0.006690</td>\n",
       "      <td>-2.505580e-01</td>\n",
       "      <td>-2.397180e-01</td>\n",
       "      <td>-2.286570e-01</td>\n",
       "      <td>907.714</td>\n",
       "      <td>233.166</td>\n",
       "      <td>1.00708</td>\n",
       "    </tr>\n",
       "    <tr>\n",
       "      <th>beta[8]</th>\n",
       "      <td>-2.292630e-01</td>\n",
       "      <td>0.000220</td>\n",
       "      <td>0.006513</td>\n",
       "      <td>-2.396820e-01</td>\n",
       "      <td>-2.292770e-01</td>\n",
       "      <td>-2.186570e-01</td>\n",
       "      <td>876.905</td>\n",
       "      <td>225.252</td>\n",
       "      <td>1.00687</td>\n",
       "    </tr>\n",
       "    <tr>\n",
       "      <th>beta[9]</th>\n",
       "      <td>-2.363860e-01</td>\n",
       "      <td>0.000212</td>\n",
       "      <td>0.006532</td>\n",
       "      <td>-2.467200e-01</td>\n",
       "      <td>-2.364200e-01</td>\n",
       "      <td>-2.258760e-01</td>\n",
       "      <td>953.174</td>\n",
       "      <td>244.843</td>\n",
       "      <td>1.00530</td>\n",
       "    </tr>\n",
       "    <tr>\n",
       "      <th>beta[10]</th>\n",
       "      <td>-1.812790e-01</td>\n",
       "      <td>0.000231</td>\n",
       "      <td>0.006733</td>\n",
       "      <td>-1.922620e-01</td>\n",
       "      <td>-1.813070e-01</td>\n",
       "      <td>-1.703380e-01</td>\n",
       "      <td>851.932</td>\n",
       "      <td>218.837</td>\n",
       "      <td>1.00614</td>\n",
       "    </tr>\n",
       "    <tr>\n",
       "      <th>beta[11]</th>\n",
       "      <td>-8.727850e-02</td>\n",
       "      <td>0.000221</td>\n",
       "      <td>0.006539</td>\n",
       "      <td>-9.804220e-02</td>\n",
       "      <td>-8.732250e-02</td>\n",
       "      <td>-7.653430e-02</td>\n",
       "      <td>878.695</td>\n",
       "      <td>225.712</td>\n",
       "      <td>1.00621</td>\n",
       "    </tr>\n",
       "    <tr>\n",
       "      <th>beta[12]</th>\n",
       "      <td>7.659830e-02</td>\n",
       "      <td>0.000225</td>\n",
       "      <td>0.006450</td>\n",
       "      <td>6.592160e-02</td>\n",
       "      <td>7.657500e-02</td>\n",
       "      <td>8.709810e-02</td>\n",
       "      <td>819.230</td>\n",
       "      <td>210.437</td>\n",
       "      <td>1.00653</td>\n",
       "    </tr>\n",
       "    <tr>\n",
       "      <th>beta[13]</th>\n",
       "      <td>1.890440e-01</td>\n",
       "      <td>0.000232</td>\n",
       "      <td>0.006409</td>\n",
       "      <td>1.784680e-01</td>\n",
       "      <td>1.890670e-01</td>\n",
       "      <td>1.996360e-01</td>\n",
       "      <td>764.423</td>\n",
       "      <td>196.358</td>\n",
       "      <td>1.00897</td>\n",
       "    </tr>\n",
       "  </tbody>\n",
       "</table>\n",
       "</div>"
      ],
      "text/plain": [
       "                  Mean      MCSE    StdDev            5%           50%  \\\n",
       "lp__      3.894120e+06  0.072517  3.523490  3.894120e+06  3.894120e+06   \n",
       "alpha    -6.220980e-01  0.000392  0.012562 -6.425060e-01 -6.220860e-01   \n",
       "beta[1]  -8.214180e+00  0.003285  0.114326 -8.401520e+00 -8.214680e+00   \n",
       "beta[2]  -4.073160e-01  0.000103  0.004886 -4.153430e-01 -4.073470e-01   \n",
       "beta[3]  -7.454110e-02  0.000231  0.006953 -8.609410e-02 -7.457940e-02   \n",
       "beta[4]  -1.755820e-01  0.000235  0.006843 -1.868520e-01 -1.755720e-01   \n",
       "beta[5]  -2.302070e-01  0.000231  0.006975 -2.414680e-01 -2.303410e-01   \n",
       "beta[6]  -2.078150e-01  0.000220  0.006637 -2.190080e-01 -2.076080e-01   \n",
       "beta[7]  -2.397130e-01  0.000222  0.006690 -2.505580e-01 -2.397180e-01   \n",
       "beta[8]  -2.292630e-01  0.000220  0.006513 -2.396820e-01 -2.292770e-01   \n",
       "beta[9]  -2.363860e-01  0.000212  0.006532 -2.467200e-01 -2.364200e-01   \n",
       "beta[10] -1.812790e-01  0.000231  0.006733 -1.922620e-01 -1.813070e-01   \n",
       "beta[11] -8.727850e-02  0.000221  0.006539 -9.804220e-02 -8.732250e-02   \n",
       "beta[12]  7.659830e-02  0.000225  0.006450  6.592160e-02  7.657500e-02   \n",
       "beta[13]  1.890440e-01  0.000232  0.006409  1.784680e-01  1.890670e-01   \n",
       "\n",
       "                   95%     N_Eff  N_Eff/s    R_hat  \n",
       "lp__      3.894130e+06  2360.830  606.429  1.00034  \n",
       "alpha    -6.016240e-01  1025.790  263.497  1.00227  \n",
       "beta[1]  -8.029210e+00  1211.380  311.168  1.00011  \n",
       "beta[2]  -3.991910e-01  2238.120  574.908  1.00018  \n",
       "beta[3]  -6.298480e-02   902.905  231.930  1.00463  \n",
       "beta[4]  -1.640800e-01   847.821  217.781  1.00668  \n",
       "beta[5]  -2.187680e-01   914.800  234.986  1.00684  \n",
       "beta[6]  -1.969430e-01   912.155  234.306  1.00374  \n",
       "beta[7]  -2.286570e-01   907.714  233.166  1.00708  \n",
       "beta[8]  -2.186570e-01   876.905  225.252  1.00687  \n",
       "beta[9]  -2.258760e-01   953.174  244.843  1.00530  \n",
       "beta[10] -1.703380e-01   851.932  218.837  1.00614  \n",
       "beta[11] -7.653430e-02   878.695  225.712  1.00621  \n",
       "beta[12]  8.709810e-02   819.230  210.437  1.00653  \n",
       "beta[13]  1.996360e-01   764.423  196.358  1.00897  "
      ]
     },
     "execution_count": 188,
     "metadata": {},
     "output_type": "execute_result"
    }
   ],
   "source": [
    "#Solid R_hats across the board!\n",
    "fit5.summary().head(15)"
   ]
  },
  {
   "cell_type": "code",
   "execution_count": 189,
   "id": "c6ad02b8-d7c3-4f7c-9cab-82014f81a26c",
   "metadata": {},
   "outputs": [
    {
     "data": {
      "image/png": "[encoded data removed]",
      "text/plain": [
       "<Figure size 1000x500 with 1 Axes>"
      ]
     },
     "metadata": {},
     "output_type": "display_data"
    }
   ],
   "source": [
    "# More than decent distribution fit as well!\n",
    "y_pred_samples5 = fit5.y_pred\n",
    "overlay_histograms(y_pred_samples5, y)"
   ]
  },
  {
   "cell_type": "markdown",
   "id": "ebbcf1a9-0400-4b9f-98dc-ce322164118d",
   "metadata": {},
   "source": [
    "# Comments on Law being relevant\n",
    "\n",
    "Beta[2] maps to the law column of the original dataframe and here has a beta weight of ~ -0.4, this is relatively small and because the law column is only ever a 1 or 0 means that column can only every affect our predictions by a single factor of -0.4. This leads me to conclude the column is effectively useless and is adding very little to the accuracy or innaccuracy of our final prosterior predictions"
   ]
  },
  {
   "cell_type": "code",
   "execution_count": null,
   "id": "4e28410c-c9a4-4c69-ae27-6213fd392e55",
   "metadata": {},
   "outputs": [],
   "source": []
  }
 ],
 "metadata": {
  "kernelspec": {
   "display_name": "Python 3 (ipykernel)",
   "language": "python",
   "name": "python3"
  },
  "language_info": {
   "codemirror_mode": {
    "name": "ipython",
    "version": 3
   },
   "file_extension": ".py",
   "mimetype": "text/x-python",
   "name": "python",
   "nbconvert_exporter": "python",
   "pygments_lexer": "ipython3",
   "version": "3.11.5"
  }
 },
 "nbformat": 4,
 "nbformat_minor": 5
}
